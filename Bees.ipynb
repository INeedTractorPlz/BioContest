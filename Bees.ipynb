{
 "cells": [
  {
   "cell_type": "code",
   "execution_count": 59,
   "metadata": {},
   "outputs": [],
   "source": [
    "class Bee:\n",
    "    def __init__(self, n1, a, b):\n",
    "        self.n1 = n1\n",
    "        self.a = a\n",
    "        self.b = b\n",
    "        if self.b !=0:\n",
    "            self.intersection = (self.a-1)/self.b\n",
    "        else:\n",
    "            self.intersection = 0\n",
    "    def next_day(self, n):\n",
    "        return self.a*n - self.b*n**2\n",
    "    def limit(self, eps, steps):\n",
    "        if self.b == 0:\n",
    "            if self.a > 1:\n",
    "                return -1\n",
    "            else:\n",
    "                if self.a == 1:\n",
    "                    return self.n1\n",
    "                else:\n",
    "                    return 0\n",
    "        current_ = self.n1\n",
    "        next_ = self.next_day(current_)\n",
    "        i = 1\n",
    "        while eps < abs(current_ - next_):\n",
    "            i = i + 1\n",
    "            #print(current_, next_, sep = ', ')\n",
    "            if current_ < 0:\n",
    "                return 0\n",
    "            if i > steps:\n",
    "                if abs(current_ - self.intersection) < abs(current_):\n",
    "                    return self.intersection\n",
    "                else:\n",
    "                    return 0\n",
    "            current_ = next_\n",
    "            next_ = self.next_day(current_)\n",
    "        return current_"
   ]
  },
  {
   "cell_type": "code",
   "execution_count": 60,
   "metadata": {},
   "outputs": [],
   "source": [
    "population = Bee(2., 3., 2.)"
   ]
  },
  {
   "cell_type": "code",
   "execution_count": 61,
   "metadata": {},
   "outputs": [
    {
     "data": {
      "text/plain": [
       "1.0"
      ]
     },
     "execution_count": 61,
     "metadata": {},
     "output_type": "execute_result"
    }
   ],
   "source": [
    "population.next_day(1.)"
   ]
  },
  {
   "cell_type": "code",
   "execution_count": 62,
   "metadata": {},
   "outputs": [
    {
     "data": {
      "text/plain": [
       "0"
      ]
     },
     "execution_count": 62,
     "metadata": {},
     "output_type": "execute_result"
    }
   ],
   "source": [
    "population.limit(1.0e-10, 1e+6)"
   ]
  },
  {
   "cell_type": "code",
   "execution_count": 63,
   "metadata": {},
   "outputs": [
    {
     "data": {
      "text/plain": [
       "[[0.5, 1.0, 1.0],\n",
       " [10.0, 1.0, 2.0],\n",
       " [0.5, 1.5, 1.0],\n",
       " [0.1, 2.0, 2.0],\n",
       " [0.5, 1.5, 0.5],\n",
       " [0.5, 3.0, 1.0],\n",
       " [0.5, 3.0, 2.0],\n",
       " [1.717, 1.121, 1.439],\n",
       " [0.679, 1.636, 1.189],\n",
       " [4.593, 1.357, 1.232],\n",
       " [0.076, 0.364, 0.308],\n",
       " [2.759, 2.018, 0.691],\n",
       " [1.047, 1.071, 0.0],\n",
       " [0.0, 0.0, 2.446],\n",
       " [1.728, 2.909, 1.622],\n",
       " [0.291, 2.182, 2.231],\n",
       " [0.307, 0.727, 1.598],\n",
       " [6.418, 1.155, 2.908],\n",
       " [0.648, 1.455, 1.604],\n",
       " [0.679, 1.273, 1.292],\n",
       " [0.272, 2.455, 1.799],\n",
       " [0.718, 2.364, 1.592],\n",
       " [0.093, 0.636, 1.668],\n",
       " [0.813, 2.636, 2.769],\n",
       " [0.34, 0.909, 2.37],\n",
       " [0.024, 0.091, 2.514],\n",
       " [0.287, 1.0, 1.664],\n",
       " [0.133, 1.364, 2.018],\n",
       " [2.321, 1.545, 0.513],\n",
       " [0.456, 2.0, 2.328],\n",
       " [1.473, 2.818, 1.266],\n",
       " [0.049, 1.091, 0.995],\n",
       " [0.048, 0.182, 1.938],\n",
       " [0.103, 0.818, 1.495],\n",
       " [0.348, 0.545, 0.678],\n",
       " [0.372, 1.818, 2.625],\n",
       " [2.345, 2.091, 0.567],\n",
       " [0.264, 0.273, 0.635],\n",
       " [0.157, 1.909, 2.847],\n",
       " [0.391, 0.455, 0.881],\n",
       " [2.233, 2.545, 0.902],\n",
       " [0.258, 1.182, 1.103],\n",
       " [0.394, 2.464, 0.0],\n",
       " [1.695, 0.42, 0.0],\n",
       " [0.53, 2.273, 1.758],\n",
       " [0.153, 1.747, 0.0],\n",
       " [3.987, 0.437, 2.068],\n",
       " [1.037, 1.727, 0.692],\n",
       " [1.783, 1.981, 0.0],\n",
       " [0.448, 2.727, 2.132]]"
      ]
     },
     "execution_count": 63,
     "metadata": {},
     "output_type": "execute_result"
    }
   ],
   "source": [
    "f = open('tests.txt')\n",
    "data = [list(map(lambda x: float(x), line.rstrip().split(' '))) for line in f]\n",
    "number_examples = data[0]\n",
    "del data[0]\n",
    "data"
   ]
  },
  {
   "cell_type": "code",
   "execution_count": 64,
   "metadata": {},
   "outputs": [],
   "source": [
    "import matplotlib.pyplot as plt"
   ]
  },
  {
   "cell_type": "code",
   "execution_count": 65,
   "metadata": {},
   "outputs": [],
   "source": [
    "def plot_example(example, steps):\n",
    "    population_ = Bee(example[0], example[1], example[2])\n",
    "    n_i = [example[0]]\n",
    "    n_i1 = []\n",
    "    distance = []\n",
    "    for i in range(0, steps):\n",
    "        n_i1.append(population_.next_day(n_i[i]))\n",
    "        n_i.append(n_i1[i])\n",
    "        distance.append(abs(n_i1[i] - n_i[i]))\n",
    "    n_i1.append(population_.next_day(n_i[-1]))\n",
    "    plt.figure(figsize=(10,5))\n",
    "    plt.subplot(121)\n",
    "    plt.scatter(n_i, n_i1, s = 5.0)\n",
    "\n",
    "    plt.subplot(122)\n",
    "    plt.plot(distance)\n",
    "    print(distance[-1])"
   ]
  },
  {
   "cell_type": "code",
   "execution_count": 66,
   "metadata": {},
   "outputs": [
    {
     "name": "stdout",
     "output_type": "stream",
     "text": [
      "0.0141293102918989\n"
     ]
    },
    {
     "data": {
      "image/png": "[encoded data removed]",
      "text/plain": [
       "<Figure size 720x360 with 2 Axes>"
      ]
     },
     "metadata": {
      "needs_background": "light"
     },
     "output_type": "display_data"
    }
   ],
   "source": [
    "plot_example(data[5], 10000)"
   ]
  },
  {
   "cell_type": "code",
   "execution_count": 67,
   "metadata": {},
   "outputs": [
    {
     "name": "stdout",
     "output_type": "stream",
     "text": [
      "5.997632205582851e-09\n"
     ]
    },
    {
     "data": {
      "image/png": "[encoded data removed]",
      "text/plain": [
       "<Figure size 720x360 with 2 Axes>"
      ]
     },
     "metadata": {
      "needs_background": "light"
     },
     "output_type": "display_data"
    }
   ],
   "source": [
    "plot_example(data[26], 10000)"
   ]
  },
  {
   "cell_type": "code",
   "execution_count": 68,
   "metadata": {},
   "outputs": [
    {
     "name": "stdout",
     "output_type": "stream",
     "text": [
      "9.99997190837277e-06, 0.0\n",
      "0, 0.0\n",
      "0.5, 0.5\n",
      "0.499999999999803, 0.5\n",
      "0.999999999893363, 1.0\n",
      "2.0, 2.0\n",
      "1.0, 1.0\n",
      "0, 0.08408617095205002\n",
      "0.5349032801775988, 0.5349032800672833\n",
      "0, 0.28977272727272724\n",
      "1.1456017219640477e-10, -2.064935064935065\n",
      "1.4732272070376813, 1.4732272069464543\n",
      "-1, 0\n",
      "0.0, -0.4088307440719542\n",
      "1.1769420469042546, 1.1769420468557334\n",
      "0.5298072613015373, 0.5298072613177948\n",
      "2.998277135063134e-10, -0.17083854818523153\n",
      "0, 0.0533012379642366\n",
      "0.28366583521652006, 0.28366583541147133\n",
      "0.2113003098759179, 0.21130030959752313\n",
      "0.8087826569688039, 0.8087826570316844\n",
      "0.8567839196330362, 0.8567839195979898\n",
      "1.8475695097381955e-10, -0.2182254196642686\n",
      "0.5908270134086786, 0.5908270133622247\n",
      "1.0580167156897702e-09, -0.038396624472573825\n",
      "3.718283524534719e-11, -0.36157517899761343\n",
      "7.75213862753378e-06, 0.0\n",
      "0.18037661023686608, 0.180376610505451\n",
      "1.0623781675320334, 1.0623781676413253\n",
      "0.4295532645161246, 0.429553264604811\n",
      "1.4360189573936402, 1.4360189573459716\n",
      "0.09145728540542405, 0.09145728643216078\n",
      "2.930104852226673e-11, -0.42208462332301344\n",
      "4.5426242360309263e-10, -0.12173913043478263\n",
      "1.6279254907604608e-10, -0.6710914454277285\n",
      "0.3116190476742252, 0.31161904761904763\n",
      "1.924162257406207, 1.9241622574955914\n",
      "8.867191662325321e-11, -1.1448818897637796\n",
      "0.3192834562382812, 0.3192834562697576\n",
      "1.048086392780832e-10, -0.6186152099886492\n",
      "1.7128603104624736, 1.7128603104212858\n",
      "0.1650045335961014, 0.1650045330915684\n",
      "-1, 0\n",
      "0, 0\n",
      "0.7241183163114463, 0.724118316268487\n",
      "-1, 0\n",
      "0, -0.2722437137330754\n",
      "1.0505780346324478, 1.0505780346820812\n",
      "-1, 0\n",
      "0.810037523508444, 0.8100375234521575\n"
     ]
    }
   ],
   "source": [
    "results = []\n",
    "for example in data:\n",
    "    population_ = Bee(example[0], example[1], example[2])\n",
    "    results.append(population_.limit(1.0e-10, 1e+7))\n",
    "    print(results[-1], population_.intersection, sep = ', ')"
   ]
  },
  {
   "cell_type": "code",
   "execution_count": 56,
   "metadata": {},
   "outputs": [
    {
     "data": {
      "text/plain": [
       "7.75213862753378e-06"
      ]
     },
     "execution_count": 56,
     "metadata": {},
     "output_type": "execute_result"
    }
   ],
   "source": [
    "results[26]"
   ]
  },
  {
   "cell_type": "code",
   "execution_count": 69,
   "metadata": {},
   "outputs": [
    {
     "data": {
      "text/plain": [
       "[0.287, 1.0, 1.664]"
      ]
     },
     "execution_count": 69,
     "metadata": {},
     "output_type": "execute_result"
    }
   ],
   "source": [
    "data[26]"
   ]
  },
  {
   "cell_type": "code",
   "execution_count": 79,
   "metadata": {},
   "outputs": [
    {
     "data": {
      "text/plain": [
       "[-9.99997190837277e-06,\n",
       " 0.0,\n",
       " 0.0,\n",
       " 1.9700907571973403e-13,\n",
       " 1.0663703253754875e-10,\n",
       " 0.0,\n",
       " 0.0,\n",
       " 0.0,\n",
       " -1.775988245356075e-10,\n",
       " 0.0,\n",
       " -1.1456017219640477e-10,\n",
       " -7.03768132659377e-09,\n",
       " 0.0,\n",
       " 0.0,\n",
       " -4.6904254702440085e-08,\n",
       " -1.3015373223623783e-09,\n",
       " -2.998277135063134e-10,\n",
       " 0.0,\n",
       " 4.783479945480451e-09,\n",
       " 1.240820779457863e-10,\n",
       " 3.031196071923148e-09,\n",
       " 3.669637926861924e-10,\n",
       " -1.8475695097381955e-10,\n",
       " -3.408678561633849e-09,\n",
       " -1.0580167156897702e-09,\n",
       " -3.718283524534719e-11,\n",
       " -7.75213862753378e-06,\n",
       " -2.3686608230377715e-10,\n",
       " 3.2467966537552684e-08,\n",
       " -4.5161245854075105e-09,\n",
       " 4.260635977360039e-08,\n",
       " -4.054240554385302e-10,\n",
       " -2.930104852226673e-11,\n",
       " -4.5426242360309263e-10,\n",
       " -1.6279254907604608e-10,\n",
       " 2.3257747949756435e-09,\n",
       " 4.2593793159184656e-08,\n",
       " -8.867191662325321e-11,\n",
       " 3.761718825323612e-09,\n",
       " -1.048086392780832e-10,\n",
       " -1.0462473554184726e-08,\n",
       " -3.5961013888918814e-09,\n",
       " 0.0,\n",
       " 0.0,\n",
       " 3.6885536847108824e-09,\n",
       " 0.0,\n",
       " 0.0,\n",
       " -3.463244779844388e-08,\n",
       " 0.0,\n",
       " -3.508444090805085e-09]"
      ]
     },
     "execution_count": 79,
     "metadata": {},
     "output_type": "execute_result"
    }
   ],
   "source": [
    "evgeniy = open('evgeniy.txt')\n",
    "evgeniy_results = [float(line) for line in evgeniy]\n",
    "[x-y for x,y in zip(evgeniy_results, results)]"
   ]
  },
  {
   "cell_type": "code",
   "execution_count": 82,
   "metadata": {},
   "outputs": [],
   "source": [
    "output = open('my_result.txt', 'w')\n",
    "for result in results:\n",
    "    output.write(str(result) + '\\n')\n",
    "output.close()"
   ]
  },
  {
   "cell_type": "code",
   "execution_count": 5,
   "metadata": {},
   "outputs": [],
   "source": [
    "from scipy.stats import binom\n",
    "import math\n",
    "from scipy.stats import multinomial\n",
    "import numpy as np"
   ]
  },
  {
   "cell_type": "code",
   "execution_count": 6,
   "metadata": {},
   "outputs": [
    {
     "name": "stdout",
     "output_type": "stream",
     "text": [
      "1.3540594993141106e-10\n",
      "1.3540594993141228e-10\n",
      "1.015544624485586e-10\n"
     ]
    }
   ],
   "source": [
    "sequencer = multinomial(10, [1- 0.050, (0.050)/3, (0.050)/3, (0.050)/3])\n",
    "print(sequencer.pmf([2, 1, 3, 4])*2)\n",
    "print(sequencer.pmf([2, 3, 3, 2]))\n",
    "print(sequencer.pmf([2, 2, 2, 4]))"
   ]
  },
  {
   "cell_type": "code",
   "execution_count": 7,
   "metadata": {},
   "outputs": [],
   "source": [
    "class Sequence_t:\n",
    "    def __init__(self, L, n, p, k):\n",
    "        self.L = L\n",
    "        self.n = n\n",
    "        self.p = p\n",
    "        self.k = k\n",
    "        self.read_probability = [binom.pmf(i,self.k,self.n/self.L) for i in range(self.k+1)]\n",
    "    def prob_bad_nucleotide(self, n, p):\n",
    "        bad_prob = 0  \n",
    "        bad_prob += binom.sf(math.floor(n/2), n, p)\n",
    "        if n % 2 == 0:\n",
    "            bad_prob += binom.pmf(n/2, n, p)*0.5\n",
    "        return bad_prob\n",
    "    def sum_err(self, prob_bad_nucleotide):\n",
    "        one_nucl_err = self.read_probability[0]*0.75\n",
    "        for k in range(1, self.k+1):\n",
    "            if (self.read_probability[k])*(self.k*self.L) >= 10e-6:\n",
    "                bad_prob = prob_bad_nucleotide(k, self.p)\n",
    "                one_nucl_err += bad_prob*self.read_probability[k]    \n",
    "        return self.L*one_nucl_err"
   ]
  },
  {
   "cell_type": "code",
   "execution_count": 8,
   "metadata": {},
   "outputs": [],
   "source": [
    "def prob_bad_nucleotide(k, p):\n",
    "    sequencer = multinomial(k, [1-p, (p)/3, (p)/3, (p)/3])\n",
    "    fault_tmp = 0\n",
    "    x = range(0, k+1)\n",
    "    for e in range(0, k+1):\n",
    "        for i in range(0, k+1):\n",
    "            for s in range(0, k+1):\n",
    "                for r in range(0, k+1):\n",
    "                    if (i + s + r + e == k):\n",
    "                        if ((i >= s and i >= r and i > e) or \\\n",
    "                        (s >= i and s >= r and s > e) or (r >= i and r >= s and r > e)):\n",
    "                        #    fault_tmp += 10e-20\n",
    "                                fault_tmp += sequencer.pmf([e, i, s, r])\n",
    "                        elif((i == e and i > r and i > s) or \\\n",
    "                        (s == e and s > i and s > r) or (r == e and r > s and r > i)):\n",
    "                        #    fault_tmp += 10e-20\n",
    "                                fault_tmp += sequencer.pmf([e, i, s, r]) * 0.5\n",
    "                        elif ((i == e and s == e and i > r) or \\\n",
    "                        (s == e and r == e and s > i) or (r == e and i == e and r > s)):\n",
    "                        #    fault_tmp += 10e-20\n",
    "                                fault_tmp += sequencer.pmf([e, i, s, r]) * 2 / 3.0\n",
    "                        elif (i == e and s == e and r == e):\n",
    "                        #    fault_tmp += 10e-20\n",
    "                                fault_tmp += sequencer.pmf([e, i, s, r]) * 0.75\n",
    "    return fault_tmp"
   ]
  },
  {
   "cell_type": "code",
   "execution_count": 9,
   "metadata": {},
   "outputs": [
    {
     "data": {
      "text/plain": [
       "[[3.0, 2.0, 0.0, 1.0],\n",
       " [3.0, 2.0, 0.0, 2.0],\n",
       " [15.0, 6.0, 0.005, 10.0],\n",
       " [15.0, 3.0, 0.027, 18.0],\n",
       " [31.0, 5.0, 0.054, 43.0],\n",
       " [81.0, 17.0, 0.085, 80.0],\n",
       " [210.0, 11.0, 0.034, 92.0],\n",
       " [321.0, 60.0, 0.016, 99.0],\n",
       " [711.0, 36.0, 0.088, 120.0],\n",
       " [1693.0, 62.0, 0.001, 150.0]]"
      ]
     },
     "execution_count": 9,
     "metadata": {},
     "output_type": "execute_result"
    }
   ],
   "source": [
    "sequences_f = open('2.txt')\n",
    "sequences = [list(map(lambda x: float(x), line.rstrip().split(' '))) for line in sequences_f]\n",
    "del sequences[0]\n",
    "sequences"
   ]
  },
  {
   "cell_type": "code",
   "execution_count": null,
   "metadata": {},
   "outputs": [],
   "source": []
  },
  {
   "cell_type": "code",
   "execution_count": 10,
   "metadata": {},
   "outputs": [
    {
     "name": "stdout",
     "output_type": "stream",
     "text": [
      "0.75\n",
      "0.25000000000000006\n",
      "0.08040206039130798\n",
      "0.31372053562685387\n",
      "0.07046934731346188\n",
      "0.0003522655019140977\n",
      "2.1591633796667775\n",
      "4.546154697592807e-06\n",
      "6.663244575950779\n",
      "4.850696809279941\n"
     ]
    }
   ],
   "source": [
    "results = []\n",
    "for sequence in sequences:\n",
    "    Sequence = Sequence_t(int(sequence[0]), int(sequence[1]), sequence[2], int(sequence[3]))\n",
    "    results.append(Sequence.sum_err(prob_bad_nucleotide))\n",
    "    print(results[-1])"
   ]
  },
  {
   "cell_type": "code",
   "execution_count": 13,
   "metadata": {},
   "outputs": [
    {
     "name": "stdout",
     "output_type": "stream",
     "text": [
      "1.1315988084405857e-294\n"
     ]
    }
   ],
   "source": [
    "sequencer = multinomial(150, [1- 0.001, (0.001)/3, (0.001)/3, (0.001)/3])\n",
    "sum = 0\n",
    "for i in range(0, 100000):\n",
    "    sum += sequencer.pmf([39, 37, 37, 37])\n",
    "print(sum)"
   ]
  },
  {
   "cell_type": "code",
   "execution_count": null,
   "metadata": {},
   "outputs": [],
   "source": []
  }
 ],
 "metadata": {
  "kernelspec": {
   "display_name": "Python 3",
   "language": "python",
   "name": "python3"
  },
  "language_info": {
   "codemirror_mode": {
    "name": "ipython",
    "version": 3
   },
   "file_extension": ".py",
   "mimetype": "text/x-python",
   "name": "python",
   "nbconvert_exporter": "python",
   "pygments_lexer": "ipython3",
   "version": "3.7.1"
  }
 },
 "nbformat": 4,
 "nbformat_minor": 2
}

{
 "cells": [
  {
   "cell_type": "markdown",
   "metadata": {},
   "source": [
    "## Полезные библиотеки и ссылки:\n",
    "\n",
    "https://pypi.org/project/cigar/\n",
    "\n",
    "difflib\n",
    "\n",
    "https://pypi.org/project/Edit_Distance/\n",
    "\n",
    "combinations\n",
    "\n",
    "https://pypi.org/project/fuzzysearch/\n",
    "\n",
    "http://ginstrom.com/scribbles/2007/12/01/fuzzy-substring-matching-with-levenshtein-distance-in-python/\n",
    "\n",
    "https://en.wikipedia.org/wiki/Wagner%E2%80%93Fischer_algorithm\n",
    "\n",
    "https://pypi.org/project/regex/"
   ]
  },
  {
   "cell_type": "code",
   "execution_count": 1,
   "metadata": {},
   "outputs": [],
   "source": [
    "from fuzzysearch import find_near_matches\n",
    "from itertools import combinations, tee\n",
    "from itertools import combinations\n",
    "from copy import copy, deepcopy"
   ]
  },
  {
   "cell_type": "code",
   "execution_count": 2,
   "metadata": {},
   "outputs": [],
   "source": [
    "def binary_generator(array):\n",
    "    i = -1\n",
    "    yield i\n",
    "    for x in array:\n",
    "        i += 1\n",
    "        if x == False:\n",
    "            yield i "
   ]
  },
  {
   "cell_type": "code",
   "execution_count": 3,
   "metadata": {},
   "outputs": [],
   "source": [
    "def D_seq(string, i):\n",
    "    return string[:i] + string[i+1:]\n",
    "def I_seq(string, i, element):\n",
    "    return string[:i] + element + string[i:]\n",
    "def X_seq(string, i, element):\n",
    "    return string[:i] + element + string[i+1:]"
   ]
  },
  {
   "cell_type": "code",
   "execution_count": 4,
   "metadata": {},
   "outputs": [],
   "source": [
    "import edit_distance\n",
    "def cigar(s1, s2):\n",
    "    cigar_string = \"\"\n",
    "    sm = edit_distance.SequenceMatcher(s1, s2).get_opcodes()\n",
    "    #print(cigar_string)\n",
    "    for opcode in sm:\n",
    "        if opcode[0] == 'equal': \n",
    "            if len(cigar_string) > 0:\n",
    "                if cigar_string[-1] == 'M':\n",
    "                    cigar_string = change_string(cigar_string)        \n",
    "                else:\n",
    "                    cigar_string += '1M'\n",
    "            else:\n",
    "                cigar_string += '1M'\n",
    "        elif opcode[0] == 'replace': \n",
    "            if len(cigar_string) > 0:\n",
    "                if cigar_string[-1] == 'X':\n",
    "                    cigar_string = change_string(cigar_string)\n",
    "                else:\n",
    "                    cigar_string += '1X'\n",
    "            else:\n",
    "                cigar_string += '1X'\n",
    "        elif opcode[0] == 'insert': \n",
    "            if len(cigar_string) > 0:\n",
    "                if cigar_string[-1] == 'I':\n",
    "                    cigar_string = change_string(cigar_string)\n",
    "                else:\n",
    "                    cigar_string += '1I'\n",
    "            else:\n",
    "                cigar_string += '1I'\n",
    "        elif opcode[0] == 'delete': \n",
    "            if len(cigar_string) > 0:\n",
    "                if cigar_string[-1] == 'D':\n",
    "                    cigar_string = change_string(cigar_string)\n",
    "                else:\n",
    "                    cigar_string += '1D'\n",
    "            else:\n",
    "                cigar_string += '1D'\n",
    "        #print(cigar_string)\n",
    "    return cigar_string"
   ]
  },
  {
   "cell_type": "code",
   "execution_count": 5,
   "metadata": {},
   "outputs": [],
   "source": [
    "def change_string(s):\n",
    "    return s[:-cigar_add(s)-1] + str(int(s[-cigar_add(s)-1:-1])+1) + s[-1]"
   ]
  },
  {
   "cell_type": "code",
   "execution_count": 6,
   "metadata": {},
   "outputs": [],
   "source": [
    "def cigar_add(cigar_string):\n",
    "    if len(cigar_string) >= 3:\n",
    "        if cigar_string[-3] != 'M' and cigar_string[-3] != 'X' and cigar_string[-3] != 'I' and \\\n",
    "        cigar_string[-3] != 'D':\n",
    "            return cigar_add(cigar_string[:-1]) + 1\n",
    "        else:\n",
    "            return 1\n",
    "    else:\n",
    "        return 1"
   ]
  },
  {
   "cell_type": "code",
   "execution_count": 7,
   "metadata": {},
   "outputs": [],
   "source": [
    "def cigar_to_binary(cigar):\n",
    "    binary = []\n",
    "    i = 0; k = 0\n",
    "    while k < len(cigar):\n",
    "        while cigar[k] != 'M' and cigar[k] != 'X' and cigar[k] != 'I' and cigar[k] != 'D':\n",
    "            k += 1\n",
    "        if cigar[k] == 'M':\n",
    "            for j in range(int(cigar[i:k])):\n",
    "                binary.append(True)\n",
    "        else:\n",
    "            for j in range(int(cigar[i:k])):\n",
    "                binary.append(False)\n",
    "        k += 1\n",
    "        i = k\n",
    "    return binary"
   ]
  },
  {
   "cell_type": "code",
   "execution_count": 8,
   "metadata": {},
   "outputs": [],
   "source": [
    "def intersection(cigars):\n",
    "    l = len(cigar_to_binary(cigars[0]))\n",
    "    res = [True for i in range(l)]\n",
    "    for cigar in cigars:\n",
    "        binary = cigar_to_binary(cigar)\n",
    "        res = [res[i] and binary[i] for i in range(l)]\n",
    "    return res"
   ]
  },
  {
   "cell_type": "code",
   "execution_count": null,
   "metadata": {},
   "outputs": [],
   "source": []
  },
  {
   "cell_type": "code",
   "execution_count": 30,
   "metadata": {},
   "outputs": [],
   "source": [
    "class Sequence_t:\n",
    "    def __init__(self, file):\n",
    "        f = open(file, 'r')\n",
    "        numbers = [int(number) for number in f.readline().rstrip().split(\" \")]\n",
    "        self.sequence = f.readline()\n",
    "        self.n = numbers[0]\n",
    "        self.l = numbers[1]\n",
    "        self.d = numbers[2]\n",
    "        self.L = len(self.sequence)\n",
    "        f.close()\n",
    "    def main_sample(self):\n",
    "        results = []\n",
    "        for i in range(self.L - self.n * self.l):\n",
    "            result = find_near_matches(self.sequence[i:i+self.l], \\\n",
    "                                       self.sequence[i:self.L], max_l_dist=self.d*2)\n",
    "            if(len(result) >= self.n):\n",
    "                results.append((result, [i + x[0] for x in result], [i + x[1] for x in result]))\n",
    "        print(results)\n",
    "        return results\n",
    "    def search_subsequence(self, subsequence, generator):\n",
    "        DNA = 'ATGC'\n",
    "        try:\n",
    "            i = next(generator)\n",
    "        except StopIteration:\n",
    "            return [], []\n",
    "        generators = [1, 2, 3, 4]\n",
    "        for j in range(4):\n",
    "            generator, generators[j] = tee(generator)\n",
    "        for x, generator_ in zip(DNA, generators):\n",
    "            subsequence_ = X_seq(subsequence, i, x)\n",
    "            result = find_near_matches(subsequence_, self.sequence, max_l_dist=self.d)\n",
    "            if len(result) >= self.n:\n",
    "                return result, subsequence_\n",
    "            else:\n",
    "                result, subsequence_ = self.search_subsequence(subsequence_, generator_)\n",
    "                if result != []:\n",
    "                    return result, subsequence_\n",
    "        return result, subsequence_\n",
    "    def search_E(self, starts, ends):\n",
    "        subsequences = []\n",
    "        if starts[0] <= self.d:\n",
    "            E = self.sequence[starts[1] - self.d:ends[1] + self.d]\n",
    "            subsequences.append('A'*d + self.sequence[0:ends[0] + self.d])\n",
    "            for i in range(2, len(starts)):\n",
    "                subsequences.append(self.sequence[starts[i] - self.d:ends[i] + self.d])\n",
    "        else:\n",
    "            E = self.sequence[starts[0] - self.d:ends[0] + self.d]\n",
    "            subsequences = [self.sequence[starts[i] - self.d : ends[i] + self.d] for i in range(1, len(starts))]\n",
    "        intersections_ = intersection([cigar(subsequence, E) for subsequence in subsequences])\n",
    "        for i in range(2*self.d+1):\n",
    "            print(i)\n",
    "            if i == 0:\n",
    "                g = binary_generator(intersections_)\n",
    "                next(g)\n",
    "                result, subsequence_ = self.search_subsequence(E, g)\n",
    "                if(result != []):\n",
    "                    return result, subsequence_\n",
    "            else:\n",
    "                full = binary_generator(intersections_)\n",
    "                next(full)\n",
    "                for comb in combinations([j for j in full], i):\n",
    "                    E_ = E\n",
    "                    intersections__ = deepcopy(intersections_)\n",
    "                    num = 0\n",
    "                    for k in comb:\n",
    "                        E_ = D_seq(E_, k - num)\n",
    "                        del intersections__[k]\n",
    "                        num += 1\n",
    "                    g = binary_generator(intersections__)\n",
    "                    next(g)\n",
    "                    result, subsequence_ = self.search_subsequence(E_, g)\n",
    "                    if(result != []):\n",
    "                        return result, subsequence_\n",
    "        return result, subsequence_\n",
    "    def output(self, file):\n",
    "        for result, starts, ends in self.main_sample():\n",
    "            result, sequence = self.search_E(starts, ends)\n",
    "            if result != []:\n",
    "                break\n",
    "        output = open(file, 'w')\n",
    "        output.write(sequence + '\\n')\n",
    "        for x in result:\n",
    "            output.write(str(x[0]+1) + ' ' + cigar(self.sequence[x[0]:x[1]], sequence) + '\\n')\n",
    "        output.close()\n",
    "        return sequence"
   ]
  },
  {
   "cell_type": "code",
   "execution_count": 31,
   "metadata": {},
   "outputs": [
    {
     "name": "stdout",
     "output_type": "stream",
     "text": [
      "[([Match(start=0, end=10, dist=0), Match(start=20, end=29, dist=1), Match(start=42, end=51, dist=1), Match(start=65, end=73, dist=2)], [3, 23, 45, 68], [13, 32, 54, 76]), ([Match(start=0, end=10, dist=0), Match(start=20, end=29, dist=1), Match(start=42, end=51, dist=1), Match(start=65, end=73, dist=2)], [4, 24, 46, 69], [14, 33, 55, 77])]\n",
      "0\n",
      "1\n",
      "2\n"
     ]
    },
    {
     "data": {
      "text/plain": [
       "'ATGCAGCATT'"
      ]
     },
     "execution_count": 31,
     "metadata": {},
     "output_type": "execute_result"
    }
   ],
   "source": [
    "sequence3 = Sequence_t('3.txt')\n",
    "sequence3.output('result_3.txt')"
   ]
  },
  {
   "cell_type": "code",
   "execution_count": 22,
   "metadata": {},
   "outputs": [
    {
     "name": "stdout",
     "output_type": "stream",
     "text": [
      "[([Match(start=0, end=30, dist=0), Match(start=78, end=108, dist=2), Match(start=121, end=150, dist=2)], [7, 85, 128], [37, 115, 157]), ([Match(start=0, end=30, dist=0), Match(start=78, end=108, dist=1), Match(start=119, end=150, dist=2)], [8, 86, 127], [38, 116, 158]), ([Match(start=0, end=30, dist=0), Match(start=79, end=107, dist=2), Match(start=120, end=150, dist=1)], [9, 88, 129], [39, 116, 159]), ([Match(start=0, end=30, dist=0), Match(start=79, end=108, dist=2), Match(start=121, end=149, dist=2)], [10, 89, 131], [40, 118, 159]), ([Match(start=0, end=30, dist=0), Match(start=78, end=108, dist=1), Match(start=120, end=150, dist=1)], [11, 89, 131], [41, 119, 161]), ([Match(start=0, end=30, dist=0), Match(start=78, end=109, dist=2), Match(start=120, end=149, dist=2)], [12, 90, 132], [42, 121, 161])]\n",
      "0\n",
      "1\n"
     ]
    },
    {
     "data": {
      "text/plain": [
       "'CAGGCTAGACCATCCTCTTGCTTGCCCCTAC'"
      ]
     },
     "execution_count": 22,
     "metadata": {},
     "output_type": "execute_result"
    }
   ],
   "source": [
    "sequence2 = Sequence_t('2.txt')\n",
    "sequence2.output('result_2.txt')"
   ]
  },
  {
   "cell_type": "code",
   "execution_count": 17,
   "metadata": {},
   "outputs": [
    {
     "name": "stdout",
     "output_type": "stream",
     "text": [
      "[([Match(start=0, end=10, dist=0), Match(start=48, end=60, dist=2), Match(start=85, end=96, dist=4), Match(start=117, end=124, dist=4)], [5, 53, 90, 122], [15, 65, 101, 129]), ([Match(start=0, end=10, dist=0), Match(start=34, end=44, dist=4), Match(start=55, end=64, dist=5), Match(start=65, end=76, dist=6), Match(start=98, end=106, dist=5)], [37, 71, 92, 102, 135], [47, 81, 101, 113, 143]), ([Match(start=0, end=10, dist=0), Match(start=34, end=44, dist=4), Match(start=54, end=65, dist=6), Match(start=66, end=74, dist=5), Match(start=97, end=105, dist=5)], [39, 73, 93, 105, 136], [49, 83, 104, 113, 144]), ([Match(start=0, end=10, dist=0), Match(start=34, end=44, dist=5), Match(start=54, end=60, dist=6), Match(start=65, end=77, dist=5), Match(start=96, end=105, dist=5)], [40, 74, 94, 105, 136], [50, 84, 100, 117, 145]), ([Match(start=0, end=10, dist=0), Match(start=35, end=42, dist=5), Match(start=65, end=77, dist=5), Match(start=96, end=108, dist=6)], [41, 76, 106, 137], [51, 83, 118, 149]), ([Match(start=0, end=10, dist=0), Match(start=34, end=42, dist=5), Match(start=66, end=77, dist=5), Match(start=98, end=107, dist=6)], [42, 76, 108, 140], [52, 84, 119, 149]), ([Match(start=0, end=10, dist=0), Match(start=27, end=37, dist=5), Match(start=67, end=77, dist=5), Match(start=95, end=105, dist=6)], [43, 70, 110, 138], [53, 80, 120, 148]), ([Match(start=0, end=10, dist=0), Match(start=32, end=40, dist=5), Match(start=66, end=77, dist=6), Match(start=93, end=99, dist=6)], [44, 76, 110, 137], [54, 84, 121, 143]), ([Match(start=0, end=10, dist=0), Match(start=31, end=40, dist=4), Match(start=50, end=58, dist=6), Match(start=61, end=70, dist=5), Match(start=92, end=99, dist=6)], [45, 76, 95, 106, 137], [55, 85, 103, 115, 144]), ([Match(start=0, end=10, dist=0), Match(start=30, end=40, dist=4), Match(start=44, end=53, dist=5), Match(start=60, end=70, dist=5), Match(start=83, end=91, dist=6), Match(start=91, end=99, dist=6)], [46, 76, 90, 106, 129, 137], [56, 86, 99, 116, 137, 145]), ([Match(start=0, end=10, dist=0), Match(start=34, end=43, dist=4), Match(start=64, end=73, dist=4), Match(start=86, end=93, dist=6)], [56, 90, 120, 142], [66, 99, 129, 149])]\n"
     ]
    },
    {
     "ename": "IndexError",
     "evalue": "list index out of range",
     "output_type": "error",
     "traceback": [
      "\u001b[0;31m---------------------------------------------------------------------------\u001b[0m",
      "\u001b[0;31mIndexError\u001b[0m                                Traceback (most recent call last)",
      "\u001b[0;32m<ipython-input-17-856ec7a111e5>\u001b[0m in \u001b[0;36m<module>\u001b[0;34m\u001b[0m\n\u001b[1;32m      1\u001b[0m \u001b[0msequence5\u001b[0m \u001b[0;34m=\u001b[0m \u001b[0mSequence_t\u001b[0m\u001b[0;34m(\u001b[0m\u001b[0;34m'5.txt'\u001b[0m\u001b[0;34m)\u001b[0m\u001b[0;34m\u001b[0m\u001b[0;34m\u001b[0m\u001b[0m\n\u001b[0;32m----> 2\u001b[0;31m \u001b[0msequence5\u001b[0m\u001b[0;34m.\u001b[0m\u001b[0moutput\u001b[0m\u001b[0;34m(\u001b[0m\u001b[0;34m'result_5.txt'\u001b[0m\u001b[0;34m)\u001b[0m\u001b[0;34m\u001b[0m\u001b[0;34m\u001b[0m\u001b[0m\n\u001b[0m",
      "\u001b[0;32m<ipython-input-15-316aefc5d4b8>\u001b[0m in \u001b[0;36moutput\u001b[0;34m(self, file)\u001b[0m\n\u001b[1;32m     75\u001b[0m     \u001b[0;32mdef\u001b[0m \u001b[0moutput\u001b[0m\u001b[0;34m(\u001b[0m\u001b[0mself\u001b[0m\u001b[0;34m,\u001b[0m \u001b[0mfile\u001b[0m\u001b[0;34m)\u001b[0m\u001b[0;34m:\u001b[0m\u001b[0;34m\u001b[0m\u001b[0;34m\u001b[0m\u001b[0m\n\u001b[1;32m     76\u001b[0m         \u001b[0;32mfor\u001b[0m \u001b[0mresult\u001b[0m\u001b[0;34m,\u001b[0m \u001b[0mstarts\u001b[0m\u001b[0;34m,\u001b[0m \u001b[0mends\u001b[0m \u001b[0;32min\u001b[0m \u001b[0mself\u001b[0m\u001b[0;34m.\u001b[0m\u001b[0mmain_sample\u001b[0m\u001b[0;34m(\u001b[0m\u001b[0;34m)\u001b[0m\u001b[0;34m:\u001b[0m\u001b[0;34m\u001b[0m\u001b[0;34m\u001b[0m\u001b[0m\n\u001b[0;32m---> 77\u001b[0;31m             \u001b[0mresult\u001b[0m\u001b[0;34m,\u001b[0m \u001b[0msequence\u001b[0m \u001b[0;34m=\u001b[0m \u001b[0mself\u001b[0m\u001b[0;34m.\u001b[0m\u001b[0msearch_E\u001b[0m\u001b[0;34m(\u001b[0m\u001b[0mstarts\u001b[0m\u001b[0;34m,\u001b[0m \u001b[0mends\u001b[0m\u001b[0;34m)\u001b[0m\u001b[0;34m\u001b[0m\u001b[0;34m\u001b[0m\u001b[0m\n\u001b[0m\u001b[1;32m     78\u001b[0m             \u001b[0;32mif\u001b[0m \u001b[0mresult\u001b[0m \u001b[0;34m!=\u001b[0m \u001b[0;34m[\u001b[0m\u001b[0;34m]\u001b[0m\u001b[0;34m:\u001b[0m\u001b[0;34m\u001b[0m\u001b[0;34m\u001b[0m\u001b[0m\n\u001b[1;32m     79\u001b[0m                 \u001b[0;32mbreak\u001b[0m\u001b[0;34m\u001b[0m\u001b[0;34m\u001b[0m\u001b[0m\n",
      "\u001b[0;32m<ipython-input-15-316aefc5d4b8>\u001b[0m in \u001b[0;36msearch_E\u001b[0;34m(self, starts, ends)\u001b[0m\n\u001b[1;32m     47\u001b[0m             \u001b[0mE\u001b[0m \u001b[0;34m=\u001b[0m \u001b[0mself\u001b[0m\u001b[0;34m.\u001b[0m\u001b[0msequence\u001b[0m\u001b[0;34m[\u001b[0m\u001b[0mstarts\u001b[0m\u001b[0;34m[\u001b[0m\u001b[0;36m0\u001b[0m\u001b[0;34m]\u001b[0m \u001b[0;34m-\u001b[0m \u001b[0mself\u001b[0m\u001b[0;34m.\u001b[0m\u001b[0md\u001b[0m\u001b[0;34m:\u001b[0m\u001b[0mends\u001b[0m\u001b[0;34m[\u001b[0m\u001b[0;36m0\u001b[0m\u001b[0;34m]\u001b[0m \u001b[0;34m+\u001b[0m \u001b[0mself\u001b[0m\u001b[0;34m.\u001b[0m\u001b[0md\u001b[0m\u001b[0;34m]\u001b[0m\u001b[0;34m\u001b[0m\u001b[0;34m\u001b[0m\u001b[0m\n\u001b[1;32m     48\u001b[0m             \u001b[0msubsequences\u001b[0m \u001b[0;34m=\u001b[0m \u001b[0;34m[\u001b[0m\u001b[0mself\u001b[0m\u001b[0;34m.\u001b[0m\u001b[0msequence\u001b[0m\u001b[0;34m[\u001b[0m\u001b[0mstarts\u001b[0m\u001b[0;34m[\u001b[0m\u001b[0mi\u001b[0m\u001b[0;34m]\u001b[0m \u001b[0;34m-\u001b[0m \u001b[0mself\u001b[0m\u001b[0;34m.\u001b[0m\u001b[0md\u001b[0m \u001b[0;34m:\u001b[0m \u001b[0mends\u001b[0m\u001b[0;34m[\u001b[0m\u001b[0mi\u001b[0m\u001b[0;34m]\u001b[0m \u001b[0;34m+\u001b[0m \u001b[0mself\u001b[0m\u001b[0;34m.\u001b[0m\u001b[0md\u001b[0m\u001b[0;34m]\u001b[0m \u001b[0;32mfor\u001b[0m \u001b[0mi\u001b[0m \u001b[0;32min\u001b[0m \u001b[0mrange\u001b[0m\u001b[0;34m(\u001b[0m\u001b[0;36m1\u001b[0m\u001b[0;34m,\u001b[0m \u001b[0mlen\u001b[0m\u001b[0;34m(\u001b[0m\u001b[0mstarts\u001b[0m\u001b[0;34m)\u001b[0m\u001b[0;34m)\u001b[0m\u001b[0;34m]\u001b[0m\u001b[0;34m\u001b[0m\u001b[0;34m\u001b[0m\u001b[0m\n\u001b[0;32m---> 49\u001b[0;31m         \u001b[0mintersections_\u001b[0m \u001b[0;34m=\u001b[0m \u001b[0mintersection\u001b[0m\u001b[0;34m(\u001b[0m\u001b[0;34m[\u001b[0m\u001b[0mcigar\u001b[0m\u001b[0;34m(\u001b[0m\u001b[0msubsequence\u001b[0m\u001b[0;34m,\u001b[0m \u001b[0mE\u001b[0m\u001b[0;34m)\u001b[0m \u001b[0;32mfor\u001b[0m \u001b[0msubsequence\u001b[0m \u001b[0;32min\u001b[0m \u001b[0msubsequences\u001b[0m\u001b[0;34m]\u001b[0m\u001b[0;34m)\u001b[0m\u001b[0;34m\u001b[0m\u001b[0;34m\u001b[0m\u001b[0m\n\u001b[0m\u001b[1;32m     50\u001b[0m         \u001b[0;32mfor\u001b[0m \u001b[0mi\u001b[0m \u001b[0;32min\u001b[0m \u001b[0mrange\u001b[0m\u001b[0;34m(\u001b[0m\u001b[0;36m2\u001b[0m\u001b[0;34m*\u001b[0m\u001b[0mself\u001b[0m\u001b[0;34m.\u001b[0m\u001b[0md\u001b[0m\u001b[0;34m+\u001b[0m\u001b[0;36m1\u001b[0m\u001b[0;34m)\u001b[0m\u001b[0;34m:\u001b[0m\u001b[0;34m\u001b[0m\u001b[0;34m\u001b[0m\u001b[0m\n\u001b[1;32m     51\u001b[0m             \u001b[0mprint\u001b[0m\u001b[0;34m(\u001b[0m\u001b[0mi\u001b[0m\u001b[0;34m)\u001b[0m\u001b[0;34m\u001b[0m\u001b[0;34m\u001b[0m\u001b[0m\n",
      "\u001b[0;32m<ipython-input-8-8f493ce739fa>\u001b[0m in \u001b[0;36mintersection\u001b[0;34m(cigars)\u001b[0m\n\u001b[1;32m      4\u001b[0m     \u001b[0;32mfor\u001b[0m \u001b[0mcigar\u001b[0m \u001b[0;32min\u001b[0m \u001b[0mcigars\u001b[0m\u001b[0;34m:\u001b[0m\u001b[0;34m\u001b[0m\u001b[0;34m\u001b[0m\u001b[0m\n\u001b[1;32m      5\u001b[0m         \u001b[0mbinary\u001b[0m \u001b[0;34m=\u001b[0m \u001b[0mcigar_to_binary\u001b[0m\u001b[0;34m(\u001b[0m\u001b[0mcigar\u001b[0m\u001b[0;34m)\u001b[0m\u001b[0;34m\u001b[0m\u001b[0;34m\u001b[0m\u001b[0m\n\u001b[0;32m----> 6\u001b[0;31m         \u001b[0mres\u001b[0m \u001b[0;34m=\u001b[0m \u001b[0;34m[\u001b[0m\u001b[0mres\u001b[0m\u001b[0;34m[\u001b[0m\u001b[0mi\u001b[0m\u001b[0;34m]\u001b[0m \u001b[0;32mand\u001b[0m \u001b[0mbinary\u001b[0m\u001b[0;34m[\u001b[0m\u001b[0mi\u001b[0m\u001b[0;34m]\u001b[0m \u001b[0;32mfor\u001b[0m \u001b[0mi\u001b[0m \u001b[0;32min\u001b[0m \u001b[0mrange\u001b[0m\u001b[0;34m(\u001b[0m\u001b[0ml\u001b[0m\u001b[0;34m)\u001b[0m\u001b[0;34m]\u001b[0m\u001b[0;34m\u001b[0m\u001b[0;34m\u001b[0m\u001b[0m\n\u001b[0m\u001b[1;32m      7\u001b[0m     \u001b[0;32mreturn\u001b[0m \u001b[0mres\u001b[0m\u001b[0;34m\u001b[0m\u001b[0;34m\u001b[0m\u001b[0m\n",
      "\u001b[0;32m<ipython-input-8-8f493ce739fa>\u001b[0m in \u001b[0;36m<listcomp>\u001b[0;34m(.0)\u001b[0m\n\u001b[1;32m      4\u001b[0m     \u001b[0;32mfor\u001b[0m \u001b[0mcigar\u001b[0m \u001b[0;32min\u001b[0m \u001b[0mcigars\u001b[0m\u001b[0;34m:\u001b[0m\u001b[0;34m\u001b[0m\u001b[0;34m\u001b[0m\u001b[0m\n\u001b[1;32m      5\u001b[0m         \u001b[0mbinary\u001b[0m \u001b[0;34m=\u001b[0m \u001b[0mcigar_to_binary\u001b[0m\u001b[0;34m(\u001b[0m\u001b[0mcigar\u001b[0m\u001b[0;34m)\u001b[0m\u001b[0;34m\u001b[0m\u001b[0;34m\u001b[0m\u001b[0m\n\u001b[0;32m----> 6\u001b[0;31m         \u001b[0mres\u001b[0m \u001b[0;34m=\u001b[0m \u001b[0;34m[\u001b[0m\u001b[0mres\u001b[0m\u001b[0;34m[\u001b[0m\u001b[0mi\u001b[0m\u001b[0;34m]\u001b[0m \u001b[0;32mand\u001b[0m \u001b[0mbinary\u001b[0m\u001b[0;34m[\u001b[0m\u001b[0mi\u001b[0m\u001b[0;34m]\u001b[0m \u001b[0;32mfor\u001b[0m \u001b[0mi\u001b[0m \u001b[0;32min\u001b[0m \u001b[0mrange\u001b[0m\u001b[0;34m(\u001b[0m\u001b[0ml\u001b[0m\u001b[0;34m)\u001b[0m\u001b[0;34m]\u001b[0m\u001b[0;34m\u001b[0m\u001b[0;34m\u001b[0m\u001b[0m\n\u001b[0m\u001b[1;32m      7\u001b[0m     \u001b[0;32mreturn\u001b[0m \u001b[0mres\u001b[0m\u001b[0;34m\u001b[0m\u001b[0;34m\u001b[0m\u001b[0m\n",
      "\u001b[0;31mIndexError\u001b[0m: list index out of range"
     ]
    }
   ],
   "source": [
    "sequence5 = Sequence_t('5.txt')\n",
    "sequence5.output('result_5.txt')"
   ]
  },
  {
   "cell_type": "code",
   "execution_count": null,
   "metadata": {},
   "outputs": [],
   "source": []
  }
 ],
 "metadata": {
  "kernelspec": {
   "display_name": "Python 3",
   "language": "python",
   "name": "python3"
  },
  "language_info": {
   "codemirror_mode": {
    "name": "ipython",
    "version": 3
   },
   "file_extension": ".py",
   "mimetype": "text/x-python",
   "name": "python",
   "nbconvert_exporter": "python",
   "pygments_lexer": "ipython3",
   "version": "3.7.1"
  }
 },
 "nbformat": 4,
 "nbformat_minor": 2
}

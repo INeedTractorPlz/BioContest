{
 "cells": [
  {
   "cell_type": "code",
   "execution_count": 51,
   "metadata": {},
   "outputs": [
    {
     "data": {
      "text/plain": [
       "<regex.Match object; span=(6, 11), match='aabaa', fuzzy_counts=(1, 0, 0)>"
      ]
     },
     "execution_count": 51,
     "metadata": {},
     "output_type": "execute_result"
    }
   ],
   "source": [
    "import regex\n",
    "regex.search(\"(aaaaa){e<2}\", 'bbbbbbaabaabbbb')"
   ]
  },
  {
   "cell_type": "code",
   "execution_count": 12,
   "metadata": {},
   "outputs": [],
   "source": [
    "regex.search(\"(aaaaab){s<4}\", 'caaab')"
   ]
  },
  {
   "cell_type": "code",
   "execution_count": 13,
   "metadata": {},
   "outputs": [
    {
     "name": "stdout",
     "output_type": "stream",
     "text": [
      "Collecting fuzzysearch\n",
      "\u001b[?25l  Downloading https://files.pythonhosted.org/packages/19/9d/2b5a9d5f60ccd6ac6d5b11f3c73be4600ac9136d439a2ad9a2653940c520/fuzzysearch-0.6.1.tar.gz (99kB)\n",
      "\u001b[K    100% |████████████████████████████████| 102kB 438kB/s \n",
      "\u001b[?25hRequirement already satisfied: six in /home/igor/anaconda3/lib/python3.7/site-packages (from fuzzysearch) (1.12.0)\n",
      "Building wheels for collected packages: fuzzysearch\n",
      "  Running setup.py bdist_wheel for fuzzysearch ... \u001b[?25ldone\n",
      "\u001b[?25h  Stored in directory: /home/igor/.cache/pip/wheels/8b/39/68/8c7af85431aee02ef2d871ffd36c950d221259adc6ff0203c8\n",
      "Successfully built fuzzysearch\n",
      "Installing collected packages: fuzzysearch\n",
      "Successfully installed fuzzysearch-0.6.1\n"
     ]
    }
   ],
   "source": [
    "!pip install --user fuzzysearch"
   ]
  },
  {
   "cell_type": "code",
   "execution_count": 88,
   "metadata": {},
   "outputs": [],
   "source": [
    "from fuzzysearch import find_near_matches\n",
    "from itertools import combinations, tee"
   ]
  },
  {
   "cell_type": "code",
   "execution_count": 5,
   "metadata": {},
   "outputs": [],
   "source": [
    "sequence = '''\\\n",
    "GACTAGCACTGTAGGGATAACAATTTCACACAGGTGGACAATTACATTGAAAATCACAGATTGGTCACACACACA\\\n",
    "TTGGACATACATAGAAACACACACACATACATTAGATACGAACATAGAAACACACATTAGACGCGTACATAGACA\\\n",
    "CAAACACATTGACAGGCAGTTCAGATGATGACGCCCGACTGATACTCGCGTAGTCGTGGGAGGCAAGGCACACAG\\\n",
    "GGGATAGG'''"
   ]
  },
  {
   "cell_type": "code",
   "execution_count": 6,
   "metadata": {},
   "outputs": [
    {
     "data": {
      "text/plain": [
       "'GACTAGCACTGTAGGGATAACAATTTCACACAGGTGGACAATTACATTGAAAATCACAGATTGGTCACACACACATTGGACATACATAGAAACACACACACATACATTAGATACGAACATAGAAACACACATTAGACGCGTACATAGACACAAACACATTGACAGGCAGTTCAGATGATGACGCCCGACTGATACTCGCGTAGTCGTGGGAGGCAAGGCACACAGGGGATAGG'"
      ]
     },
     "execution_count": 6,
     "metadata": {},
     "output_type": "execute_result"
    }
   ],
   "source": [
    "sequence"
   ]
  },
  {
   "cell_type": "code",
   "execution_count": 7,
   "metadata": {},
   "outputs": [],
   "source": [
    "subsequence = 'AAT'"
   ]
  },
  {
   "cell_type": "code",
   "execution_count": 15,
   "metadata": {},
   "outputs": [
    {
     "data": {
      "text/plain": [
       "Match(start=1, end=4, dist=1)"
      ]
     },
     "execution_count": 15,
     "metadata": {},
     "output_type": "execute_result"
    }
   ],
   "source": [
    "result = find_near_matches(subsequence, sequence, max_l_dist=4)\n",
    "result[0]"
   ]
  },
  {
   "cell_type": "code",
   "execution_count": 30,
   "metadata": {},
   "outputs": [
    {
     "name": "stdout",
     "output_type": "stream",
     "text": [
      "n1 = 6, l1 = 23, d1 = 0\n",
      "AATGGGACACATGCGCTGGGAGCCTGGTAATAAGCTGATTGAACTACAGATGACCCGCAAATGGAGACCTTTAGGAAAGAGTATCAAGGAAGTTAGGCGACACACGTACGAAGTGCGCCCAGATCTGACTTAAGAAACGTCGGGGTCATTTGGATACTAAGTCAAGCGAGAGCACGACACCCGCATTCGACCAGTGACCGAATGGGACACATGCGCTGGGAGCCTGCGACGTTCGCCGGCGGTAACGGCTTAACGGGGCTTGTTGCTGCTAGTCGGCGATATAGGTCTTCAGTAAAGCCATCTACTGGCCGCTTTTGAATGGTACCGAAGAGCAAAGCAAGTTCATTTGATTATTCTACTGTGGCGATTTCTATTCGTCGTGTTATAACATTGATTGCTCGCGATCGGGCCCGTTAGGCTTACTTCTGCGGAACGTGTTCTCGAAGGGATAGGTGCGAGGTGCGGGGCATGGAATTTTAGTCCTCCCTCTCCAAGCTGGCCGCTCTTCATGTTGTCATTTTTAGAATTTGGGTTGAGGTCCCCGCATAACAAACACTTTGGGACACATGCGCTGGGAGCCTCCAAAGGCAGTAGGCTTGGGGCACATGGGACACATGCGCTGGGAGCCTACAGGAACCGCTCTCACACGGTCCCGAAATTTGCCCGTGTGACCAACAACATCCTTTTATTTGTCGGCTGAAGTCATTGGTAGCGTGTTCACCCTTACGTGCGTAACCCCAGCGCGAATCTTCACCCCTAATAGTGCCGAGTACAGCTGGGTACCCGCTGCCAGATGAATGTACTAAGTCGGAAGGCATCTGTTTATCTGAGGAGCATTGCCTGCGGGCATAAAAATGGGACACATGCGCTGGGAGCCTCTGTTAGTTGCGAACTACGGACATGGTCCGACACTAGAAAGATTTGTATGGAAGCGGATCGAAGCCCCTGCTTCGACTGTACACCCCATGTCCCGTTCTGAACGATGGGACACATGCGCTGGGAGCCTCCGGGCAATTATGACCACAACTTCGGAGGGTTGTAGATCGGATTATTGCGTATCGTCGCAGTTTTTCCACACGGACTATCGTCGTCTAAACTAACCGGGGGGGCTCAGGTGGGACACATGCGCTGGGAGCCTCTG\n"
     ]
    }
   ],
   "source": [
    "f1 = open('1.txt', 'r')\n",
    "numbers1 = [int(number) for number in f1.readline().rstrip().split(\" \")]\n",
    "sequence1 = f1.readline()\n",
    "n1 = numbers[0]\n",
    "l1 = numbers[1]\n",
    "d1 = numbers[2]\n",
    "print(\"n1 = \"+str(n1)+\", l1 = \"+str(l1)+\", d1 = \"+str(d1))\n",
    "print(sequence1)\n",
    "f1.close()"
   ]
  },
  {
   "cell_type": "code",
   "execution_count": 43,
   "metadata": {},
   "outputs": [
    {
     "name": "stdout",
     "output_type": "stream",
     "text": [
      "Match(start=2, end=25, dist=0)\n",
      "Match(start=202, end=225, dist=0)\n",
      "Match(start=558, end=581, dist=0)\n",
      "Match(start=606, end=629, dist=0)\n",
      "Match(start=855, end=878, dist=0)\n",
      "Match(start=983, end=1006, dist=0)\n",
      "Match(start=1115, end=1138, dist=0)\n",
      "TGGGACACATGCGCTGGGAGCCT\n",
      "TGGGACACATGCGCTGGGAGCCT\n",
      "TGGGACACATGCGCTGGGAGCCT\n",
      "TGGGACACATGCGCTGGGAGCCT\n",
      "TGGGACACATGCGCTGGGAGCCT\n",
      "TGGGACACATGCGCTGGGAGCCT\n",
      "TGGGACACATGCGCTGGGAGCCT\n"
     ]
    }
   ],
   "source": [
    "k = 0\n",
    "for i in range(len(sequence1)-l1):\n",
    "    result1 = find_near_matches(sequence[i:i+l1], sequence1, max_l_dist=0)\n",
    "    if(len(result1) >= n1):\n",
    "        k = i\n",
    "        break\n",
    "for i in range(len(result1)):\n",
    "    print(result1[i])\n",
    "for i in range(len(result1)):\n",
    "    print(sequence1[result1[i][0]:result1[i][1]])"
   ]
  },
  {
   "cell_type": "code",
   "execution_count": 113,
   "metadata": {},
   "outputs": [
    {
     "ename": "NameError",
     "evalue": "name 'sequence1' is not defined",
     "output_type": "error",
     "traceback": [
      "\u001b[0;31m---------------------------------------------------------------------------\u001b[0m",
      "\u001b[0;31mNameError\u001b[0m                                 Traceback (most recent call last)",
      "\u001b[0;32m<ipython-input-113-b711055c2382>\u001b[0m in \u001b[0;36m<module>\u001b[0;34m\u001b[0m\n\u001b[1;32m      1\u001b[0m \u001b[0moutput1\u001b[0m \u001b[0;34m=\u001b[0m \u001b[0mopen\u001b[0m\u001b[0;34m(\u001b[0m\u001b[0;34m'result_1.txt'\u001b[0m\u001b[0;34m,\u001b[0m \u001b[0;34m'w'\u001b[0m\u001b[0;34m)\u001b[0m\u001b[0;34m\u001b[0m\u001b[0;34m\u001b[0m\u001b[0m\n\u001b[0;32m----> 2\u001b[0;31m \u001b[0moutput1\u001b[0m\u001b[0;34m.\u001b[0m\u001b[0mwrite\u001b[0m\u001b[0;34m(\u001b[0m\u001b[0msequence1\u001b[0m\u001b[0;34m[\u001b[0m\u001b[0mk\u001b[0m\u001b[0;34m:\u001b[0m\u001b[0mk\u001b[0m\u001b[0;34m+\u001b[0m\u001b[0ml1\u001b[0m\u001b[0;34m]\u001b[0m\u001b[0;34m+\u001b[0m\u001b[0;34m'\\n'\u001b[0m\u001b[0;34m)\u001b[0m\u001b[0;34m\u001b[0m\u001b[0;34m\u001b[0m\u001b[0m\n\u001b[0m\u001b[1;32m      3\u001b[0m \u001b[0;32mfor\u001b[0m \u001b[0mresult\u001b[0m \u001b[0;32min\u001b[0m \u001b[0mresult1\u001b[0m\u001b[0;34m:\u001b[0m\u001b[0;34m\u001b[0m\u001b[0;34m\u001b[0m\u001b[0m\n\u001b[1;32m      4\u001b[0m     \u001b[0moutput\u001b[0m\u001b[0;34m.\u001b[0m\u001b[0mwrite\u001b[0m\u001b[0;34m(\u001b[0m\u001b[0mstr\u001b[0m\u001b[0;34m(\u001b[0m\u001b[0mresult\u001b[0m\u001b[0;34m[\u001b[0m\u001b[0;36m0\u001b[0m\u001b[0;34m]\u001b[0m\u001b[0;34m+\u001b[0m\u001b[0;36m1\u001b[0m\u001b[0;34m)\u001b[0m \u001b[0;34m+\u001b[0m \u001b[0;34m' 23M'\u001b[0m\u001b[0;34m+\u001b[0m\u001b[0;34m'\\n'\u001b[0m\u001b[0;34m)\u001b[0m\u001b[0;34m\u001b[0m\u001b[0;34m\u001b[0m\u001b[0m\n\u001b[1;32m      5\u001b[0m \u001b[0moutput1\u001b[0m\u001b[0;34m.\u001b[0m\u001b[0mclose\u001b[0m\u001b[0;34m(\u001b[0m\u001b[0;34m)\u001b[0m\u001b[0;34m\u001b[0m\u001b[0;34m\u001b[0m\u001b[0m\n",
      "\u001b[0;31mNameError\u001b[0m: name 'sequence1' is not defined"
     ]
    }
   ],
   "source": [
    "output1 = open('result_1.txt', 'w')\n",
    "output1.write(sequence1[k:k+l1]+'\\n')\n",
    "for result in result1:\n",
    "    output.write(str(result[0]+1) + ' 23M'+'\\n')\n",
    "output1.close()"
   ]
  },
  {
   "cell_type": "code",
   "execution_count": 2,
   "metadata": {},
   "outputs": [
    {
     "name": "stdout",
     "output_type": "stream",
     "text": [
      "n2 = 3, l2 = 30, d2 = 1\n",
      "CTTCTCCCAGACTAGACCATCCTCTTGCTTGCCCCTACTCCCACTCGCGATGTCAGCGTGGAGCGCCGAACGTTTCACAGCTCCATAGGCTAGACCATCCTCTTGCTTGCCCCTACGCCACTGTAGAACGGCTAGACCATCCTCTTGCTTGCCCCTACTAC\n"
     ]
    }
   ],
   "source": [
    "f2 = open('2.txt', 'r')\n",
    "numbers2 = [int(number) for number in f2.readline().rstrip().split(\" \")]\n",
    "sequence2 = f2.readline()\n",
    "n2 = numbers2[0]\n",
    "l2 = numbers2[1]\n",
    "d2 = numbers2[2]\n",
    "print(\"n2 = \"+str(n2)+\", l2 = \"+str(l2)+\", d2 = \"+str(d2))\n",
    "print(sequence2)\n",
    "f2.close()"
   ]
  },
  {
   "cell_type": "code",
   "execution_count": 132,
   "metadata": {},
   "outputs": [
    {
     "name": "stdout",
     "output_type": "stream",
     "text": [
      "11\n",
      "89\n",
      "131\n"
     ]
    }
   ],
   "source": [
    "for i in range(len(sequence2)-n2*l2+1):\n",
    "    result2 = find_near_matches(sequence2[i:i+l2], sequence2[i:len(sequence2)], max_substitutions=d2, \n",
    "                                max_insertions=0,max_deletions=0)\n",
    "    if(len(result2) >= n2):\n",
    "        starts2 = [i+result[0] for result in result2]\n",
    "        break\n",
    "for k in starts2:\n",
    "    print(k)"
   ]
  },
  {
   "cell_type": "code",
   "execution_count": 133,
   "metadata": {},
   "outputs": [],
   "source": [
    "cigars2 = []\n",
    "for k in starts2:\n",
    "    cigars2.append(cigar(sequence2[k:k+l2], sequence2[i:i+l2]))"
   ]
  },
  {
   "cell_type": "code",
   "execution_count": 134,
   "metadata": {},
   "outputs": [
    {
     "data": {
      "text/plain": [
       "['30M', '27M1X2M', '28M1X1M']"
      ]
     },
     "execution_count": 134,
     "metadata": {},
     "output_type": "execute_result"
    }
   ],
   "source": [
    "cigars2"
   ]
  },
  {
   "cell_type": "code",
   "execution_count": 139,
   "metadata": {},
   "outputs": [],
   "source": [
    "output2 = open('result_2.txt', 'w')\n",
    "output2.write(sequence2[i:i+l2]+'\\n')\n",
    "for j in range(len(starts2)):\n",
    "    output2.write(str(starts2[j]+1) + ' ' + cigars2[j] + '\\n')\n",
    "output2.close()"
   ]
  },
  {
   "cell_type": "code",
   "execution_count": null,
   "metadata": {},
   "outputs": [],
   "source": []
  },
  {
   "cell_type": "code",
   "execution_count": 11,
   "metadata": {},
   "outputs": [
    {
     "name": "stdout",
     "output_type": "stream",
     "text": [
      "n3 = 4, l3 = 10, d3 = 1\n",
      "CGCATGCCAGCATTCAACCGAAAATGCAGCATTAAGTGTCTAAAAATGCAGCATTTGTGTTACTTAGTATCAGCATTGCAA\n"
     ]
    }
   ],
   "source": [
    "f3 = open('3.txt', 'r')\n",
    "numbers3 = [int(number) for number in f3.readline().rstrip().split(\" \")]\n",
    "sequence3 = f3.readline()\n",
    "n3 = numbers3[0]\n",
    "l3 = numbers3[1]\n",
    "d3 = numbers3[2]\n",
    "print(\"n3 = \"+str(n3)+\", l3 = \"+str(l3)+\", d3 = \"+str(d3))\n",
    "print(sequence3)\n",
    "f3.close()"
   ]
  },
  {
   "cell_type": "code",
   "execution_count": 118,
   "metadata": {},
   "outputs": [
    {
     "name": "stdout",
     "output_type": "stream",
     "text": [
      "Result3:\n",
      "[Match(start=0, end=10, dist=0), Match(start=20, end=29, dist=1), Match(start=42, end=51, dist=1), Match(start=65, end=73, dist=2)]\n",
      "3 13\n",
      "ATGCCAGCAT\n",
      "23 32\n",
      "ATGCAGCAT\n",
      "45 54\n",
      "ATGCAGCAT\n",
      "68 76\n",
      "ATCAGCAT\n",
      "['10M', '3M1I6M', '3M1I6M', '2M2I6M']\n",
      "Result3:\n",
      "[Match(start=0, end=10, dist=0), Match(start=20, end=29, dist=1), Match(start=42, end=51, dist=1), Match(start=65, end=73, dist=2)]\n",
      "4 14\n",
      "TGCCAGCATT\n",
      "24 33\n",
      "TGCAGCATT\n",
      "46 55\n",
      "TGCAGCATT\n",
      "69 77\n",
      "TCAGCATT\n",
      "['10M', '2M1I7M', '2M1I7M', '1M2I7M']\n"
     ]
    }
   ],
   "source": [
    "results3 = []\n",
    "for i in range(len(sequence3)-n3*l3):\n",
    "    result3 = find_near_matches(sequence3[i:i+l3], sequence3[i:len(sequence3)], max_l_dist=d3*2)\n",
    "    if(len(result3) >= n3):\n",
    "        results3.append((result3, [i+result[0] for result in result3], \\\n",
    "                            [i+result[1] for result in result3]))\n",
    "cigars3 = []\n",
    "cigar3 = []\n",
    "for result3, starts3, ends3 in results3:\n",
    "    print(\"Result3:\")\n",
    "    print(result3)\n",
    "    for k in range(len(starts3)):\n",
    "        print(starts3[k],ends3[k])\n",
    "        print(sequence3[starts3[k]:ends3[k]])\n",
    "        cigar3.append(cigar(sequence3[starts3[k]:ends3[k]], sequence3[starts3[0]:ends3[0]]))\n",
    "    cigars3.append(cigar3)\n",
    "    print(cigar3)\n",
    "    cigar3 = []"
   ]
  },
  {
   "cell_type": "code",
   "execution_count": 122,
   "metadata": {},
   "outputs": [
    {
     "name": "stdout",
     "output_type": "stream",
     "text": [
      "3M1D7M\n",
      "4 14\n",
      "10M\n",
      "24 33\n",
      "10M\n",
      "46 55\n",
      "2M1I7M\n",
      "69 77\n"
     ]
    }
   ],
   "source": [
    "for k, j in zip(results3[1][1], results3[1][2]):\n",
    "    print(cigar(sequence3[k-1:j], 'ATGCAGCATT'))\n",
    "    print(k,j)"
   ]
  },
  {
   "cell_type": "code",
   "execution_count": 130,
   "metadata": {},
   "outputs": [
    {
     "data": {
      "text/plain": [
       "[False, True, True, True, False, True, True, True, True, True, True, True]"
      ]
     },
     "execution_count": 130,
     "metadata": {},
     "output_type": "execute_result"
    }
   ],
   "source": [
    "cigar_to_binary('1X3M1I7M')"
   ]
  },
  {
   "cell_type": "code",
   "execution_count": 217,
   "metadata": {},
   "outputs": [
    {
     "name": "stdout",
     "output_type": "stream",
     "text": [
      "[False, True, True, False, False, True, True, True, True, True, True, True]\n",
      "0\n",
      "DNA\n",
      "AATGCCAGCATT\n",
      "A 0\n",
      "AATACCAGCATT\n",
      "A 3\n",
      "AATAACAGCATT\n",
      "A 4\n",
      "AATATCAGCATT\n",
      "T 4\n",
      "AATAGCAGCATT\n",
      "G 4\n",
      "AATACCAGCATT\n",
      "C 4\n",
      "AATTCCAGCATT\n",
      "T 3\n",
      "AATTACAGCATT\n",
      "A 4\n",
      "AATTTCAGCATT\n",
      "T 4\n",
      "AATTGCAGCATT\n",
      "G 4\n",
      "AATTCCAGCATT\n",
      "C 4\n",
      "AATGCCAGCATT\n",
      "G 3\n",
      "AATGACAGCATT\n",
      "A 4\n",
      "AATGTCAGCATT\n",
      "T 4\n",
      "AATGGCAGCATT\n",
      "G 4\n",
      "AATGCCAGCATT\n",
      "C 4\n",
      "AATCCCAGCATT\n",
      "C 3\n",
      "AATCACAGCATT\n",
      "A 4\n",
      "AATCTCAGCATT\n",
      "T 4\n",
      "AATCGCAGCATT\n",
      "G 4\n",
      "AATCCCAGCATT\n",
      "C 4\n",
      "TATGCCAGCATT\n",
      "T 0\n",
      "TATACCAGCATT\n",
      "A 3\n",
      "TATAACAGCATT\n",
      "A 4\n",
      "TATATCAGCATT\n",
      "T 4\n",
      "TATAGCAGCATT\n",
      "G 4\n",
      "TATACCAGCATT\n",
      "C 4\n",
      "TATTCCAGCATT\n",
      "T 3\n",
      "TATTACAGCATT\n",
      "A 4\n",
      "TATTTCAGCATT\n",
      "T 4\n",
      "TATTGCAGCATT\n",
      "G 4\n",
      "TATTCCAGCATT\n",
      "C 4\n",
      "TATGCCAGCATT\n",
      "G 3\n",
      "TATGACAGCATT\n",
      "A 4\n",
      "TATGTCAGCATT\n",
      "T 4\n",
      "TATGGCAGCATT\n",
      "G 4\n",
      "TATGCCAGCATT\n",
      "C 4\n",
      "TATCCCAGCATT\n",
      "C 3\n",
      "TATCACAGCATT\n",
      "A 4\n",
      "TATCTCAGCATT\n",
      "T 4\n",
      "TATCGCAGCATT\n",
      "G 4\n",
      "TATCCCAGCATT\n",
      "C 4\n",
      "GATGCCAGCATT\n",
      "G 0\n",
      "GATACCAGCATT\n",
      "A 3\n",
      "GATAACAGCATT\n",
      "A 4\n",
      "GATATCAGCATT\n",
      "T 4\n",
      "GATAGCAGCATT\n",
      "G 4\n",
      "GATACCAGCATT\n",
      "C 4\n",
      "GATTCCAGCATT\n",
      "T 3\n",
      "GATTACAGCATT\n",
      "A 4\n",
      "GATTTCAGCATT\n",
      "T 4\n",
      "GATTGCAGCATT\n",
      "G 4\n",
      "GATTCCAGCATT\n",
      "C 4\n",
      "GATGCCAGCATT\n",
      "G 3\n",
      "GATGACAGCATT\n",
      "A 4\n",
      "GATGTCAGCATT\n",
      "T 4\n",
      "GATGGCAGCATT\n",
      "G 4\n",
      "GATGCCAGCATT\n",
      "C 4\n",
      "GATCCCAGCATT\n",
      "C 3\n",
      "GATCACAGCATT\n",
      "A 4\n",
      "GATCTCAGCATT\n",
      "T 4\n",
      "GATCGCAGCATT\n",
      "G 4\n",
      "GATCCCAGCATT\n",
      "C 4\n",
      "CATGCCAGCATT\n",
      "C 0\n",
      "CATACCAGCATT\n",
      "A 3\n",
      "CATAACAGCATT\n",
      "A 4\n",
      "CATATCAGCATT\n",
      "T 4\n",
      "CATAGCAGCATT\n",
      "G 4\n",
      "CATACCAGCATT\n",
      "C 4\n",
      "CATTCCAGCATT\n",
      "T 3\n",
      "CATTACAGCATT\n",
      "A 4\n",
      "CATTTCAGCATT\n",
      "T 4\n",
      "CATTGCAGCATT\n",
      "G 4\n",
      "CATTCCAGCATT\n",
      "C 4\n",
      "CATGCCAGCATT\n",
      "G 3\n",
      "CATGACAGCATT\n",
      "A 4\n",
      "CATGTCAGCATT\n",
      "T 4\n",
      "CATGGCAGCATT\n",
      "G 4\n",
      "CATGCCAGCATT\n",
      "C 4\n",
      "CATCCCAGCATT\n",
      "C 3\n",
      "CATCACAGCATT\n",
      "A 4\n",
      "CATCTCAGCATT\n",
      "T 4\n",
      "CATCGCAGCATT\n",
      "G 4\n",
      "CATCCCAGCATT\n",
      "C 4\n",
      "1\n",
      "(0,)\n",
      "ATGCCAGCATT 0\n",
      "[True, True, False, False, True, True, True, True, True, True, True]\n",
      "ATACCAGCATT\n",
      "A 2\n",
      "ATAACAGCATT\n",
      "A 3\n",
      "ATATCAGCATT\n",
      "T 3\n",
      "ATAGCAGCATT\n",
      "G 3\n",
      "ATACCAGCATT\n",
      "C 3\n",
      "ATTCCAGCATT\n",
      "T 2\n",
      "ATTACAGCATT\n",
      "A 3\n",
      "ATTTCAGCATT\n",
      "T 3\n",
      "ATTGCAGCATT\n",
      "G 3\n",
      "ATTCCAGCATT\n",
      "C 3\n",
      "ATGCCAGCATT\n",
      "G 2\n",
      "ATGACAGCATT\n",
      "A 3\n",
      "ATGTCAGCATT\n",
      "T 3\n",
      "ATGGCAGCATT\n",
      "G 3\n",
      "ATGCCAGCATT\n",
      "C 3\n",
      "ATCCCAGCATT\n",
      "C 2\n",
      "ATCACAGCATT\n",
      "A 3\n",
      "ATCTCAGCATT\n",
      "T 3\n",
      "ATCGCAGCATT\n",
      "G 3\n",
      "ATCCCAGCATT\n",
      "C 3\n",
      "(3,)\n",
      "CATCCAGCATT 3\n",
      "[False, True, True, False, True, True, True, True, True, True, True]\n",
      "DNA\n",
      "AATCCAGCATT\n",
      "A 0\n",
      "AATACAGCATT\n",
      "A 3\n",
      "AATTCAGCATT\n",
      "T 3\n",
      "AATGCAGCATT\n",
      "G 3\n",
      "AATCCAGCATT\n",
      "C 3\n",
      "TATCCAGCATT\n",
      "T 0\n",
      "TATACAGCATT\n",
      "A 3\n",
      "TATTCAGCATT\n",
      "T 3\n",
      "TATGCAGCATT\n",
      "G 3\n",
      "TATCCAGCATT\n",
      "C 3\n",
      "GATCCAGCATT\n",
      "G 0\n",
      "GATACAGCATT\n",
      "A 3\n",
      "GATTCAGCATT\n",
      "T 3\n",
      "GATGCAGCATT\n",
      "G 3\n",
      "GATCCAGCATT\n",
      "C 3\n",
      "CATCCAGCATT\n",
      "C 0\n",
      "CATACAGCATT\n",
      "A 3\n",
      "CATTCAGCATT\n",
      "T 3\n",
      "CATGCAGCATT\n",
      "G 3\n",
      "CATCCAGCATT\n",
      "C 3\n",
      "(4,)\n",
      "CATGCAGCATT 4\n",
      "[False, True, True, False, True, True, True, True, True, True, True]\n",
      "DNA\n",
      "AATGCAGCATT\n",
      "A 0\n",
      "AATACAGCATT\n",
      "A 3\n",
      "AATTCAGCATT\n",
      "T 3\n",
      "AATGCAGCATT\n",
      "G 3\n",
      "AATCCAGCATT\n",
      "C 3\n",
      "TATGCAGCATT\n",
      "T 0\n",
      "TATACAGCATT\n",
      "A 3\n",
      "TATTCAGCATT\n",
      "T 3\n",
      "TATGCAGCATT\n",
      "G 3\n",
      "TATCCAGCATT\n",
      "C 3\n",
      "GATGCAGCATT\n",
      "G 0\n",
      "GATACAGCATT\n",
      "A 3\n",
      "GATTCAGCATT\n",
      "T 3\n",
      "GATGCAGCATT\n",
      "G 3\n",
      "GATCCAGCATT\n",
      "C 3\n",
      "CATGCAGCATT\n",
      "C 0\n",
      "CATACAGCATT\n",
      "A 3\n",
      "CATTCAGCATT\n",
      "T 3\n",
      "CATGCAGCATT\n",
      "G 3\n",
      "CATCCAGCATT\n",
      "C 3\n",
      "2\n",
      "(0, 3)\n",
      "ATGCCAGCATT 0\n",
      "ATCCAGCATT 2\n",
      "[True, True, False, True, True, True, True, True, True, True]\n",
      "ATACAGCATT\n",
      "A 2\n",
      "ATTCAGCATT\n",
      "T 2\n",
      "ATGCAGCATT\n",
      "G 2\n"
     ]
    }
   ],
   "source": [
    "for result3, starts3, ends3 in results3:\n",
    "    result, sequence = search_E(sequence3, starts3, ends3, d3, d3, d3, d3, n3)\n",
    "    if result != []:\n",
    "        break"
   ]
  },
  {
   "cell_type": "code",
   "execution_count": 219,
   "metadata": {},
   "outputs": [
    {
     "name": "stdout",
     "output_type": "stream",
     "text": [
      "[Match(start=3, end=14, dist=1), Match(start=23, end=33, dist=0), Match(start=45, end=55, dist=0), Match(start=68, end=77, dist=1)] ATGCAGCATT\n"
     ]
    }
   ],
   "source": [
    "print(result, sequence)"
   ]
  },
  {
   "cell_type": "code",
   "execution_count": 222,
   "metadata": {},
   "outputs": [
    {
     "name": "stdout",
     "output_type": "stream",
     "text": [
      "ATGCAGCATT\n",
      "3 3M1D7M\n",
      "23 10M\n",
      "45 10M\n",
      "68 2M1I7M\n"
     ]
    }
   ],
   "source": [
    "print(sequence)\n",
    "for x in result:\n",
    "    print(str(x[0]) + ' ' + cigar(sequence3[x[0]:x[1]], sequence))"
   ]
  },
  {
   "cell_type": "code",
   "execution_count": 109,
   "metadata": {},
   "outputs": [],
   "source": [
    "def D_seq(string, i):\n",
    "    return string[:i] + string[i+1:]\n",
    "def I_seq(string, i, element):\n",
    "    return string[:i] + element + string[i:]\n",
    "def X_seq(string, i, element):\n",
    "    return string[:i] + element + string[i+1:]"
   ]
  },
  {
   "cell_type": "code",
   "execution_count": 164,
   "metadata": {},
   "outputs": [
    {
     "data": {
      "text/plain": [
       "'AGT'"
      ]
     },
     "execution_count": 164,
     "metadata": {},
     "output_type": "execute_result"
    }
   ],
   "source": [
    "D_seq('AGCT', 2)"
   ]
  },
  {
   "cell_type": "code",
   "execution_count": 212,
   "metadata": {},
   "outputs": [
    {
     "name": "stdout",
     "output_type": "stream",
     "text": [
      "A\n",
      "2\n",
      "3\n",
      "4\n",
      "T\n",
      "2\n",
      "3\n",
      "4\n",
      "G\n",
      "2\n",
      "3\n",
      "4\n",
      "C\n",
      "2\n",
      "3\n",
      "4\n"
     ]
    }
   ],
   "source": [
    "def generator():\n",
    "    for i in range(5):\n",
    "        yield i\n",
    "def f(i):\n",
    "    print(next(i))\n",
    "    try:\n",
    "        f(i)\n",
    "    except:\n",
    "        return\n",
    "g = generator()\n",
    "next(g)\n",
    "next(g)\n",
    "generators = [1, 2, 3, 4]\n",
    "for j in range(4):\n",
    "    g, generators[j] = tee(g)\n",
    "DNA='ATGC'\n",
    "for x, g_ in zip(DNA,generators):\n",
    "    print(x)\n",
    "    f(g_)"
   ]
  },
  {
   "cell_type": "code",
   "execution_count": 213,
   "metadata": {},
   "outputs": [
    {
     "name": "stdout",
     "output_type": "stream",
     "text": [
      "(0, 1)\n",
      "(0, 2)\n",
      "(0, 3)\n",
      "(0, 4)\n",
      "(1, 2)\n",
      "(1, 3)\n",
      "(1, 4)\n",
      "(2, 3)\n",
      "(2, 4)\n",
      "(3, 4)\n"
     ]
    }
   ],
   "source": [
    "for comb in combinations(range(5),2):\n",
    "    print(comb)"
   ]
  },
  {
   "cell_type": "code",
   "execution_count": 41,
   "metadata": {},
   "outputs": [],
   "source": [
    "def binary_generator(array):\n",
    "    i = -1\n",
    "    yield i\n",
    "    for x in array:\n",
    "        i += 1\n",
    "        if x == False:\n",
    "            yield i "
   ]
  },
  {
   "cell_type": "code",
   "execution_count": 210,
   "metadata": {},
   "outputs": [],
   "source": [
    "def search_subsequence(subsequence, sequence, d, dI, dD, dX, n, generator):\n",
    "    DNA = 'ATGC'\n",
    "    try:\n",
    "        i = next(generator)\n",
    "    except StopIteration:\n",
    "        return [], []\n",
    "    if i==0:\n",
    "        print('DNA')\n",
    "    generators = [1, 2, 3, 4]\n",
    "    for j in range(4):\n",
    "        generator, generators[j] = tee(generator)\n",
    "    for x, generator_ in zip(DNA, generators):\n",
    "        subsequence_ = X_seq(subsequence, i, x)\n",
    "        result = find_near_matches(subsequence_, sequence, max_l_dist=d,\n",
    "                          max_insertions=dI, max_deletions=dD, max_substitutions=dX)\n",
    "        print(subsequence_)\n",
    "        print(x, i)\n",
    "        #print(result)\n",
    "        if len(result) >= n:\n",
    "            return result, subsequence_\n",
    "        else:\n",
    "            result, subsequence_ = search_subsequence(subsequence_, sequence, d, dI, dD, dX, n, generator_)\n",
    "            if result != []:\n",
    "                return result, subsequence_\n",
    "    return result, subsequence_"
   ]
  },
  {
   "cell_type": "code",
   "execution_count": 216,
   "metadata": {},
   "outputs": [],
   "source": [
    "from itertools import combinations\n",
    "from copy import copy, deepcopy\n",
    "def search_E(sequence, starts, ends, d, dI, dD, dX, n):\n",
    "    if starts[0] <= d:\n",
    "        start = 0\n",
    "    else:\n",
    "        start = starts[0] - d\n",
    "    E = sequence[start:ends[0]+d]\n",
    "    subsequences = [sequence[starts[i] - d : ends[i] + d] for i in range(1, len(starts))]\n",
    "    #print(E, subsequences)\n",
    "    #print([cigar(subsequence, E) for subsequence in subsequences])\n",
    "    intersections_ = intersection([cigar(subsequence, E) for subsequence in subsequences])\n",
    "    print(intersections_)\n",
    "    for i in range(2*d+1):\n",
    "        print(i)\n",
    "        if i == 0:\n",
    "            g = binary_generator(intersections_)\n",
    "            next(g)\n",
    "            result, subsequence_ = search_subsequence(E, sequence, d, dI, dD, dX, n, g)\n",
    "            if(result != []):\n",
    "                return result, subsequence_\n",
    "        else:\n",
    "            full = binary_generator(intersections_)\n",
    "            next(full)\n",
    "            for comb in combinations([j for j in full], i):\n",
    "                print(comb)\n",
    "                E_ = E\n",
    "                intersections__ = deepcopy(intersections_)\n",
    "                num = 0\n",
    "                for k in comb:\n",
    "                    E_ = D_seq(E_, k - num)\n",
    "                    print(E_, k-num)\n",
    "                    del intersections__[k]\n",
    "                    num += 1\n",
    "                print(intersections__)\n",
    "                g = binary_generator(intersections__)\n",
    "                next(g)\n",
    "                result, subsequence_ = search_subsequence(E_, sequence, d, dI, dD, dX, n, g)\n",
    "                if(result != []):\n",
    "                    return result, subsequence_\n",
    "    return result, subsequence_"
   ]
  },
  {
   "cell_type": "code",
   "execution_count": 134,
   "metadata": {},
   "outputs": [],
   "source": [
    "def intersection(cigars):\n",
    "    l = len(cigar_to_binary(cigars[0]))\n",
    "    res = [True for i in range(l)]\n",
    "    for cigar in cigars:\n",
    "        binary = cigar_to_binary(cigar)\n",
    "        res = [res[i] and binary[i] for i in range(l)]\n",
    "    return res"
   ]
  },
  {
   "cell_type": "code",
   "execution_count": 5,
   "metadata": {},
   "outputs": [],
   "source": [
    "def cigar_to_binary(cigar):\n",
    "    binary = []\n",
    "    i = 0; k = 0\n",
    "    while k < len(cigar):\n",
    "        while cigar[k] != 'M' and cigar[k] != 'X' and cigar[k] != 'I' and cigar[k] != 'D':\n",
    "            k += 1\n",
    "        if cigar[k] == 'M':\n",
    "            for j in range(int(cigar[i:k])):\n",
    "                binary.append(True)\n",
    "        else:\n",
    "            for j in range(int(cigar[i:k])):\n",
    "                binary.append(False)\n",
    "        k += 1\n",
    "        i = k\n",
    "    return binary"
   ]
  },
  {
   "cell_type": "code",
   "execution_count": 6,
   "metadata": {},
   "outputs": [
    {
     "data": {
      "text/plain": [
       "[True, True, False, True, True, True, True, True, True, True]"
      ]
     },
     "execution_count": 6,
     "metadata": {},
     "output_type": "execute_result"
    }
   ],
   "source": [
    "cigar_to_binary('2M1I7M')\n",
    "#'2M1I7M'[0:1]"
   ]
  },
  {
   "cell_type": "code",
   "execution_count": 152,
   "metadata": {},
   "outputs": [
    {
     "name": "stdout",
     "output_type": "stream",
     "text": [
      "n4 = 4, l4 = 16, d4 = 4\n",
      "CTTCTCCCAGACTAGACCATCCTCTTGCTTGCCCCTACTCCCACTCGCGATGTCAGCGTGGAGCGCCGAACGTTTCACAGCTCCATAGGCTAGACCATCCTCTTGCTTGCCCCTACGCCACTGTAGAACGGCTAGACCATCCTCTTGCTTGCCCCTACTAC\n"
     ]
    }
   ],
   "source": [
    "f4 = open('4.txt', 'r')\n",
    "numbers4 = [int(number) for number in f4.readline().rstrip().split(\" \")]\n",
    "sequence4 = f4.readline()\n",
    "n4 = numbers4[0]\n",
    "l4 = numbers4[1]\n",
    "d4 = numbers4[2]\n",
    "print(\"n4 = \"+str(n4)+\", l4 = \"+str(l4)+\", d4 = \"+str(d4))\n",
    "print(sequence2)\n",
    "f4.close()"
   ]
  },
  {
   "cell_type": "code",
   "execution_count": 163,
   "metadata": {},
   "outputs": [
    {
     "name": "stdout",
     "output_type": "stream",
     "text": [
      "0\n",
      "86\n",
      "104\n",
      "144\n",
      "154\n",
      "CAGATCGCCCATATTC\n",
      "CAGATCGCCCATATTC\n",
      "TAGATCGCGTAACGCT\n",
      "ATGTTCTACCATGCAC\n",
      "GTCCGAGCTAATATTC\n",
      "ATATTCAGCCATTCTC\n",
      "[Match(start=0, end=16, dist=0), Match(start=86, end=102, dist=8), Match(start=104, end=120, dist=8), Match(start=144, end=160, dist=8), Match(start=154, end=170, dist=8)]\n",
      "0\n"
     ]
    }
   ],
   "source": [
    "for i in range(len(sequence4)-n4*l4+1):\n",
    "    result4 = find_near_matches(sequence4[i:i+l4], sequence4[i:len(sequence4)],  max_substitutions=2*d4, \n",
    "                                max_insertions=0,max_deletions=0)\n",
    "    if(len(result4) >= n4):\n",
    "        starts4 = [i+result[0] for result in result4]\n",
    "        break\n",
    "for k in starts4:\n",
    "    print(k)\n",
    "print(sequence4[i:i+l4])\n",
    "for k in starts4:\n",
    "    print(sequence4[k:k+l4]) "
   ]
  },
  {
   "cell_type": "code",
   "execution_count": 154,
   "metadata": {},
   "outputs": [],
   "source": [
    "cigars4 = []\n",
    "for k in starts4:\n",
    "    cigars4.append(cigar(sequence4[k:k+l4], sequence4[i:i+l4]))"
   ]
  },
  {
   "cell_type": "code",
   "execution_count": 155,
   "metadata": {},
   "outputs": [
    {
     "data": {
      "text/plain": [
       "['1I1X1M1X3M1D1X2M1D1X2M1I2X',\n",
       " '1X2M1D1X1M3X2M1I3X2M',\n",
       " '3X1M1X3M2X1M2X1M1X1M',\n",
       " '3X1M1X1M1I1X2M3X3M1D']"
      ]
     },
     "execution_count": 155,
     "metadata": {},
     "output_type": "execute_result"
    }
   ],
   "source": [
    "cigars4"
   ]
  },
  {
   "cell_type": "code",
   "execution_count": 156,
   "metadata": {},
   "outputs": [],
   "source": [
    "output4 = open('result_4.txt', 'w')\n",
    "output4.write(sequence4[i:i+l4]+'\\n')\n",
    "for j in range(len(starts4)):\n",
    "    output4.write(str(starts4[j]+1) + ' ' + cigars4[j] + '\\n')\n",
    "output4.close()"
   ]
  },
  {
   "cell_type": "code",
   "execution_count": 101,
   "metadata": {},
   "outputs": [
    {
     "name": "stdout",
     "output_type": "stream",
     "text": [
      "1M44211M\n",
      "5\n",
      "1M44212M\n"
     ]
    }
   ],
   "source": [
    "string = '1M44211M'\n",
    "print(string)\n",
    "string = change_string(string)\n",
    "print(cigar_add(string))\n",
    "print(string)\n",
    "#if string[-1] == 'M':\n",
    "#    print(\"Fuck\")"
   ]
  },
  {
   "cell_type": "code",
   "execution_count": 18,
   "metadata": {},
   "outputs": [],
   "source": [
    "def change_string(s):\n",
    "    return s[:-cigar_add(s)-1] + str(int(s[-cigar_add(s)-1:-1])+1) + s[-1]"
   ]
  },
  {
   "cell_type": "code",
   "execution_count": 16,
   "metadata": {},
   "outputs": [],
   "source": [
    "def cigar_add(cigar_string):\n",
    "    if len(cigar_string) >= 3:\n",
    "        if cigar_string[-3] != 'M' and cigar_string[-3] != 'X' and cigar_string[-3] != 'I' and \\\n",
    "        cigar_string[-3] != 'D':\n",
    "            return cigar_add(cigar_string[:-1]) + 1\n",
    "        else:\n",
    "            return 1\n",
    "    else:\n",
    "        return 1"
   ]
  },
  {
   "cell_type": "code",
   "execution_count": 17,
   "metadata": {},
   "outputs": [],
   "source": [
    "import edit_distance\n",
    "def cigar(s1, s2):\n",
    "    cigar_string = \"\"\n",
    "    sm = edit_distance.SequenceMatcher(s1, s2).get_opcodes()\n",
    "    #print(cigar_string)\n",
    "    for opcode in sm:\n",
    "        if opcode[0] == 'equal': \n",
    "            if len(cigar_string) > 0:\n",
    "                if cigar_string[-1] == 'M':\n",
    "                    cigar_string = change_string(cigar_string)        \n",
    "                else:\n",
    "                    cigar_string += '1M'\n",
    "            else:\n",
    "                cigar_string += '1M'\n",
    "        elif opcode[0] == 'replace': \n",
    "            if len(cigar_string) > 0:\n",
    "                if cigar_string[-1] == 'X':\n",
    "                    cigar_string = change_string(cigar_string)\n",
    "                else:\n",
    "                    cigar_string += '1X'\n",
    "            else:\n",
    "                cigar_string += '1X'\n",
    "        elif opcode[0] == 'insert': \n",
    "            if len(cigar_string) > 0:\n",
    "                if cigar_string[-1] == 'I':\n",
    "                    cigar_string = change_string(cigar_string)\n",
    "                else:\n",
    "                    cigar_string += '1I'\n",
    "            else:\n",
    "                cigar_string += '1I'\n",
    "        elif opcode[0] == 'delete': \n",
    "            if len(cigar_string) > 0:\n",
    "                if cigar_string[-1] == 'D':\n",
    "                    cigar_string = change_string(cigar_string)\n",
    "                else:\n",
    "                    cigar_string += '1D'\n",
    "            else:\n",
    "                cigar_string += '1D'\n",
    "        #print(cigar_string)\n",
    "    return cigar_string"
   ]
  },
  {
   "cell_type": "code",
   "execution_count": 40,
   "metadata": {},
   "outputs": [
    {
     "name": "stdout",
     "output_type": "stream",
     "text": [
      "Collecting cigar\n",
      "  Downloading https://files.pythonhosted.org/packages/2d/5f/ffa58a8c64f811772b69a01eeab25c602b72d02a0c83006177c21abedaa3/cigar-0.1.3.tar.gz\n",
      "Building wheels for collected packages: cigar\n",
      "  Running setup.py bdist_wheel for cigar ... \u001b[?25ldone\n",
      "\u001b[?25h  Stored in directory: /home/igor/.cache/pip/wheels/eb/c0/e6/f0f525ada263f7f72f4b3efcc7f5b3c12a372f07f55a2d687d\n",
      "Successfully built cigar\n",
      "Installing collected packages: cigar\n",
      "Successfully installed cigar-0.1.3\n"
     ]
    }
   ],
   "source": [
    "!pip install --user cigar"
   ]
  },
  {
   "cell_type": "code",
   "execution_count": 52,
   "metadata": {},
   "outputs": [],
   "source": [
    "import difflib"
   ]
  },
  {
   "cell_type": "code",
   "execution_count": 75,
   "metadata": {},
   "outputs": [
    {
     "name": "stdout",
     "output_type": "stream",
     "text": [
      "Collecting edit_distance\n",
      "  Downloading https://files.pythonhosted.org/packages/da/38/8fd8010784826a5d88b708cf0415fba52e9ed3251b95df9a1225e8b5dc0e/edit_distance-1.0.3-py3-none-any.whl\n",
      "Installing collected packages: edit-distance\n",
      "Successfully installed edit-distance-1.0.3\n"
     ]
    }
   ],
   "source": [
    "!pip install --user edit_distance"
   ]
  },
  {
   "cell_type": "code",
   "execution_count": 29,
   "metadata": {},
   "outputs": [],
   "source": [
    "import edit_distance\n",
    "sm = edit_distance.SequenceMatcher(\"CCCAGACTAGACCATCCTCTTGCTTGCCCC\",\"CCATAGGCTAGACCATCCTCTTGCTTGCCCC\")"
   ]
  },
  {
   "cell_type": "code",
   "execution_count": 32,
   "metadata": {},
   "outputs": [],
   "source": [
    "sm = sm.get_opcodes()"
   ]
  },
  {
   "cell_type": "code",
   "execution_count": 34,
   "metadata": {},
   "outputs": [
    {
     "data": {
      "text/plain": [
       "'insert'"
      ]
     },
     "execution_count": 34,
     "metadata": {},
     "output_type": "execute_result"
    }
   ],
   "source": [
    "sm[2][0]"
   ]
  },
  {
   "cell_type": "code",
   "execution_count": null,
   "metadata": {},
   "outputs": [],
   "source": []
  }
 ],
 "metadata": {
  "kernelspec": {
   "display_name": "Python 3",
   "language": "python",
   "name": "python3"
  },
  "language_info": {
   "codemirror_mode": {
    "name": "ipython",
    "version": 3
   },
   "file_extension": ".py",
   "mimetype": "text/x-python",
   "name": "python",
   "nbconvert_exporter": "python",
   "pygments_lexer": "ipython3",
   "version": "3.7.1"
  }
 },
 "nbformat": 4,
 "nbformat_minor": 2
}

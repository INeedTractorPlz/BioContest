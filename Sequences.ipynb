{
 "cells": [
  {
   "cell_type": "code",
   "execution_count": 19,
   "metadata": {},
   "outputs": [],
   "source": [
    "from scipy.stats import binom\n",
    "import math\n",
    "from scipy.stats import multinomial\n",
    "import numpy as np"
   ]
  },
  {
   "cell_type": "code",
   "execution_count": 2,
   "metadata": {},
   "outputs": [],
   "source": [
    "class Sequence_t_old:\n",
    "    def __init__(self, L, n, p, k):\n",
    "        self.L = L\n",
    "        self.n = n\n",
    "        self.p = p\n",
    "        self.k = k\n",
    "        self.read_probability = [binom.pmf(i,self.k,self.n/self.L) for i in range(self.k+1)]\n",
    "    def prob_half(self, n):\n",
    "        if n==0:\n",
    "            return self.read_probability[n]*0.75\n",
    "        prob = binom.sf(n/2, n, self.p)\n",
    "        if n % 2 == 0:\n",
    "            prob += binom.pmf(n/2, n, self.p)*0.5\n",
    "        return prob*self.read_probability[n]\n",
    "    def sum_err(self):\n",
    "        return self.L*sum([self.prob_half(i) for i in range(self.k+1)])"
   ]
  },
  {
   "cell_type": "code",
   "execution_count": 3,
   "metadata": {},
   "outputs": [],
   "source": [
    "class Sequence_t:\n",
    "    def __init__(self, L, n, p, k):\n",
    "        self.L = L\n",
    "        self.n = n\n",
    "        self.p = p\n",
    "        self.k = k\n",
    "        self.read_probability = [binom.pmf(i,self.k,self.n/self.L) for i in range(self.k+1)]\n",
    "    def prob_bad_nucleotide(self, n, p):\n",
    "        bad_prob = 0  \n",
    "        bad_prob += binom.sf(math.floor(n/2), n, p)\n",
    "        if n % 2 == 0:\n",
    "            bad_prob += binom.pmf(n/2, n, p)*0.5\n",
    "        return bad_prob\n",
    "    def sum_err(self, prob_bad_nucleotide):\n",
    "        one_nucl_err = self.read_probability[0]*0.75\n",
    "        for k in range(1, self.k+1):\n",
    "            bad_prob = prob_bad_nucleotide(k, self.p)\n",
    "            one_nucl_err += bad_prob*self.read_probability[k]    \n",
    "        return self.L*one_nucl_err"
   ]
  },
  {
   "cell_type": "code",
   "execution_count": 21,
   "metadata": {},
   "outputs": [],
   "source": [
    "def prob_bad_nucleotide(k, p):\n",
    "    sequencer = multinomial(k, [1-p, (p)/3, (p)/3, (p)/3])\n",
    "    fault_tmp = 0\n",
    "    x = range(0, k+1)\n",
    "    for e in range(0, k+1):\n",
    "        for i in range(0, k+1):\n",
    "            for s in range(0, k+1):\n",
    "                for r in range(0, k+1):\n",
    "                    if (i + s + r + e == k):\n",
    "                        if (p/3)**(s+r+i) > 10e-20:\n",
    "                            if ((i >= s and i >= r and i > e) or \\\n",
    "                            (s >= i and s >= r and s > e) or (r >= i and r >= s and r > e)):\n",
    "                                fault_tmp += sequencer.pmf([e, i, s, r])\n",
    "                            elif((i == e and i > r and i > s) or \\\n",
    "                            (s == e and s > i and s > r) or (r == e and r > s and r > i)):\n",
    "                                fault_tmp += sequencer.pmf([e, i, s, r]) * 0.5\n",
    "                            elif ((i == e and s == e and i > r) or \\\n",
    "                            (s == e and r == e and s > i) or (r == e and i == e and r > s)):\n",
    "                                fault_tmp += sequencer.pmf([e, i, s, r]) * 2 / 3.0\n",
    "                            elif (i == e and s == e and r == e):\n",
    "                                fault_tmp += sequencer.pmf([e, i, s, r]) * 0.75\n",
    "    return fault_tmp"
   ]
  },
  {
   "cell_type": "code",
   "execution_count": 22,
   "metadata": {},
   "outputs": [
    {
     "data": {
      "text/plain": [
       "[0.24010000000000004,\n",
       " 0.41160000000000013,\n",
       " 0.2646,\n",
       " 0.07559999999999996,\n",
       " 0.008099999999999996]"
      ]
     },
     "execution_count": 22,
     "metadata": {},
     "output_type": "execute_result"
    }
   ],
   "source": [
    "Sequence = Sequence_t(10, 3, 0.050, 4)\n",
    "Sequence.read_probability"
   ]
  },
  {
   "cell_type": "code",
   "execution_count": 23,
   "metadata": {},
   "outputs": [
    {
     "name": "stdout",
     "output_type": "stream",
     "text": [
      "7.940807460455251e-05\n",
      "7.940807460455242e-05\n",
      "0.0009648081064453133\n"
     ]
    }
   ],
   "source": [
    "sequencer = multinomial(10, [0.050, (1-0.050)/3, (1-0.050)/3, (1-0.050)/3])\n",
    "print(sequencer.pmf([4, 3, 2, 1]))\n",
    "print(sequencer.pmf([4, 3, 3, 0])*3)\n",
    "print(binom.pmf(4, 10, 0.050))"
   ]
  },
  {
   "cell_type": "code",
   "execution_count": 24,
   "metadata": {},
   "outputs": [
    {
     "data": {
      "text/plain": [
       "2.1433536"
      ]
     },
     "execution_count": 24,
     "metadata": {},
     "output_type": "execute_result"
    }
   ],
   "source": [
    "Sequence.sum_err(prob_bad_nucleotide)"
   ]
  },
  {
   "cell_type": "code",
   "execution_count": 14,
   "metadata": {},
   "outputs": [
    {
     "data": {
      "text/plain": [
       "2.1449182500000004"
      ]
     },
     "execution_count": 14,
     "metadata": {},
     "output_type": "execute_result"
    }
   ],
   "source": [
    "Sequence.sum_err(Sequence.prob_bad_nucleotide)"
   ]
  },
  {
   "cell_type": "code",
   "execution_count": 25,
   "metadata": {},
   "outputs": [
    {
     "data": {
      "text/plain": [
       "[[3.0, 2.0, 0.0, 1.0],\n",
       " [3.0, 2.0, 0.0, 2.0],\n",
       " [15.0, 6.0, 0.005, 10.0],\n",
       " [15.0, 3.0, 0.027, 18.0],\n",
       " [31.0, 5.0, 0.054, 43.0],\n",
       " [81.0, 17.0, 0.085, 80.0],\n",
       " [210.0, 11.0, 0.034, 92.0],\n",
       " [321.0, 60.0, 0.016, 99.0],\n",
       " [711.0, 36.0, 0.088, 120.0],\n",
       " [1693.0, 62.0, 0.001, 150.0]]"
      ]
     },
     "execution_count": 25,
     "metadata": {},
     "output_type": "execute_result"
    }
   ],
   "source": [
    "sequences_f = open('2.txt')\n",
    "sequences = [list(map(lambda x: float(x), line.rstrip().split(' '))) for line in sequences_f]\n",
    "del sequences[0]\n",
    "sequences"
   ]
  },
  {
   "cell_type": "code",
   "execution_count": 26,
   "metadata": {},
   "outputs": [
    {
     "name": "stdout",
     "output_type": "stream",
     "text": [
      "0.75\n",
      "0.25000000000000006\n",
      "0.08040206039130798\n",
      "0.31372053562685387\n",
      "0.07046934731346188\n",
      "0.0003522655019140977\n",
      "2.1591633796667775\n",
      "4.546154697592807e-06\n",
      "6.663244575950779\n",
      "4.850696809279941\n"
     ]
    }
   ],
   "source": [
    "results = []\n",
    "for sequence in sequences:\n",
    "    Sequence = Sequence_t(int(sequence[0]), int(sequence[1]), sequence[2], int(sequence[3]))\n",
    "    results.append(Sequence.sum_err(prob_bad_nucleotide))\n",
    "    print(results[-1])"
   ]
  },
  {
   "cell_type": "code",
   "execution_count": 27,
   "metadata": {},
   "outputs": [],
   "source": [
    "output = open('sequence_output_2.txt', 'w')\n",
    "for result in results:\n",
    "    output.write(str(result) + '\\n')\n",
    "output.close()"
   ]
  },
  {
   "cell_type": "code",
   "execution_count": 7,
   "metadata": {},
   "outputs": [
    {
     "data": {
      "text/plain": [
       "[[3.0, 2.0, 0.0, 1.0],\n",
       " [3.0, 2.0, 0.0, 2.0],\n",
       " [15.0, 6.0, 0.005, 10.0],\n",
       " [15.0, 3.0, 0.027, 18.0],\n",
       " [31.0, 5.0, 0.054, 43.0],\n",
       " [81.0, 17.0, 0.085, 80.0],\n",
       " [210.0, 11.0, 0.034, 156.0],\n",
       " [4341.0, 23.0, 0.016, 3681.0],\n",
       " [8573.0, 31.0, 0.088, 100.0],\n",
       " [8093.0, 43.0, 0.007, 2511.0]]"
      ]
     },
     "execution_count": 7,
     "metadata": {},
     "output_type": "execute_result"
    }
   ],
   "source": [
    "sequences_f = open('1.txt')\n",
    "sequences = [list(map(lambda x: float(x), line.rstrip().split(' '))) for line in sequences_f]\n",
    "del sequences[0]\n",
    "sequences"
   ]
  },
  {
   "cell_type": "code",
   "execution_count": 8,
   "metadata": {},
   "outputs": [
    {
     "name": "stdout",
     "output_type": "stream",
     "text": [
      "0.75\n",
      "0.25000000000000006\n",
      "0.08064580253365887\n",
      "0.32026643311433217\n",
      "0.09893372076920791\n",
      "0.0037191599387386715\n",
      "0.180537122319785\n",
      "0.00022425750024889762\n",
      "4701.699764067475\n",
      "0.022231836970356054\n"
     ]
    }
   ],
   "source": [
    "results = []\n",
    "for sequence in sequences:\n",
    "    Sequence = Sequence_t(int(sequence[0]), int(sequence[1]), sequence[2], int(sequence[3]))\n",
    "    results.append(Sequence.sum_err(Sequence.prob_bad_nucleotide))\n",
    "    print(results[-1])"
   ]
  },
  {
   "cell_type": "code",
   "execution_count": 9,
   "metadata": {},
   "outputs": [
    {
     "data": {
      "text/plain": [
       "[0.75,\n",
       " 0.25000000000000006,\n",
       " 0.08064580253365887,\n",
       " 0.32026643311433217,\n",
       " 0.09893372076920791,\n",
       " 0.0037191599387386715,\n",
       " 0.180537122319785,\n",
       " 0.00022425750024889762,\n",
       " 4701.699764067475,\n",
       " 0.022231836970356054]"
      ]
     },
     "execution_count": 9,
     "metadata": {},
     "output_type": "execute_result"
    }
   ],
   "source": [
    "results"
   ]
  },
  {
   "cell_type": "code",
   "execution_count": 10,
   "metadata": {},
   "outputs": [],
   "source": [
    "output = open('sequence_output.txt', 'w')\n",
    "for result in results:\n",
    "    output.write(str(result) + '\\n')\n",
    "output.close()"
   ]
  },
  {
   "cell_type": "code",
   "execution_count": 33,
   "metadata": {},
   "outputs": [
    {
     "data": {
      "text/plain": [
       "2"
      ]
     },
     "execution_count": 33,
     "metadata": {},
     "output_type": "execute_result"
    }
   ],
   "source": [
    "math.floor(2.9)"
   ]
  },
  {
   "cell_type": "code",
   "execution_count": 71,
   "metadata": {},
   "outputs": [],
   "source": [
    "def compositions(n,k):\n",
    "  if n < 0 or k < 0:\n",
    "    return\n",
    "  elif k == 0:\n",
    "    # the empty sum, by convention, is zero, so only return something if\n",
    "    # n is zero\n",
    "    if n == 0:\n",
    "      yield []\n",
    "    return\n",
    "  elif k == 1:\n",
    "    yield [n]\n",
    "    return\n",
    "  else:\n",
    "    for i in range(0,n+1):\n",
    "      for comp in compositions(n-i,k-1):\n",
    "        yield [i] + comp"
   ]
  },
  {
   "cell_type": "code",
   "execution_count": 79,
   "metadata": {},
   "outputs": [],
   "source": [
    "def bad_nucleotides(n, k):\n",
    "    i = 0\n",
    "    for comp in compositions(n-k, 3):\n",
    "        if comp[0] >= k or comp[1] >= k or comp[2] >= k:\n",
    "            if (comp[0] == k and comp[1] < k and comp[2] < k) or \\\n",
    "            (comp[1] == k and comp[0] < k and comp[2] < k) or \\\n",
    "            (comp[2] == k and comp[0] < k and comp[1] < k):\n",
    "                i += \n",
    "    return i"
   ]
  },
  {
   "cell_type": "code",
   "execution_count": 76,
   "metadata": {},
   "outputs": [],
   "source": [
    "def eq1_nucleotides(n, k):\n",
    "    i = 0\n",
    "    for comp in compositions(n-k, 3):\n",
    "        if (comp[0] == k and comp[1] < k and comp[2] < k) or \\\n",
    "        (comp[1] == k and comp[0] < k and comp[2] < k) or \\\n",
    "        (comp[2] == k and comp[0] < k and comp[1] < k):\n",
    "            i += 1\n",
    "    return i"
   ]
  },
  {
   "cell_type": "code",
   "execution_count": 77,
   "metadata": {},
   "outputs": [],
   "source": [
    "def eq2_nucleotides(n, k):\n",
    "    i = 0\n",
    "    for comp in compositions(n-k, 3):\n",
    "        if (comp[0] == k and comp[1] == k and comp[2] < k) or \\\n",
    "        (comp[1] == k and comp[2] == k and comp[0] < k) or \\\n",
    "        (comp[0] == k and comp[2] == k and comp[1] < k):\n",
    "            i += 1\n",
    "    return i"
   ]
  },
  {
   "cell_type": "code",
   "execution_count": 80,
   "metadata": {},
   "outputs": [],
   "source": [
    "def eq3_nucleotides(n, k):\n",
    "    i = 0\n",
    "    for comp in compositions(n-k, 3):\n",
    "        if (comp[0] == k and comp[1] == k and comp[2] == k):\n",
    "            i += 1\n",
    "    return i"
   ]
  },
  {
   "cell_type": "code",
   "execution_count": null,
   "metadata": {},
   "outputs": [],
   "source": [
    "def prob_bad_nucleotide_2(k, p):\n",
    "    sequencer = multinomial(k, [p, (1-p)/3, (1-p)/3, (1-p)/3])\n",
    "    k1_bound = math.floor(k/2)\n",
    "    if k%2 == 0:\n",
    "        eq_prob+= sequencer.pmf([k1_bound, k1_bound, 0, 0])*num_eq(k, k1_bound)\n",
    "        k1_bound = k1_bound - 1 \n",
    "    for k1 in range(0, k1_bound+1):\n",
    "        eq_prob += sequencer.pmf([k1, k1, k - 2*k1, 0])*num_eq(k, k1)\n",
    "        bad_prob += sequencer.pmf([k1, k1 + 1, k - 2*k1 - 1, 0])*num_bad(k, k1)\n",
    "    return eq_prob, bad_prob"
   ]
  },
  {
   "cell_type": "code",
   "execution_count": 13,
   "metadata": {},
   "outputs": [],
   "source": [
    "def bad_nucleotides(n):\n",
    "    for comp in compositions(n,4):\n",
    "        if comp[0] < comp[1] or comp[0] < comp[2] or comp[0] < comp[3]:\n",
    "            yield comp"
   ]
  },
  {
   "cell_type": "code",
   "execution_count": 14,
   "metadata": {},
   "outputs": [],
   "source": [
    "def eq_nucleotides(n):\n",
    "    for comp in compositions(n,4):\n",
    "        if (comp[0] == comp[1] and comp[0] >= comp[2] and comp[0] >= comp[3]) or \\\n",
    "        (comp[0] == comp[2] and comp[0] >= comp[1] and comp[0] >= comp[3]) or \\\n",
    "        (comp[0] == comp[3] and comp[0] >= comp[1] and comp[0] >= comp[2]):\n",
    "            yield comp"
   ]
  },
  {
   "cell_type": "code",
   "execution_count": 16,
   "metadata": {},
   "outputs": [],
   "source": [
    "generator = eq_nucleotides(100)\n",
    "eq_nucl_arr = []\n",
    "for i in generator:\n",
    "    eq_nucl_arr.append(i) "
   ]
  },
  {
   "cell_type": "code",
   "execution_count": 105,
   "metadata": {},
   "outputs": [],
   "source": [
    "import numpy as np\n",
    "x = np.arange(0, 10, 1)\n",
    "x1, x2, x3, x4 = np.meshgrid(x,x,x,x)"
   ]
  },
  {
   "cell_type": "code",
   "execution_count": 107,
   "metadata": {},
   "outputs": [
    {
     "data": {
      "text/plain": [
       "array([[[[0, 0, 0, ..., 0, 0, 0],\n",
       "         [0, 0, 0, ..., 0, 0, 0],\n",
       "         [0, 0, 0, ..., 0, 0, 0],\n",
       "         ...,\n",
       "         [0, 0, 0, ..., 0, 0, 0],\n",
       "         [0, 0, 0, ..., 0, 0, 0],\n",
       "         [0, 0, 0, ..., 0, 0, 0]],\n",
       "\n",
       "        [[0, 0, 0, ..., 0, 0, 0],\n",
       "         [0, 0, 0, ..., 0, 0, 0],\n",
       "         [0, 0, 0, ..., 0, 0, 0],\n",
       "         ...,\n",
       "         [0, 0, 0, ..., 0, 0, 0],\n",
       "         [0, 0, 0, ..., 0, 0, 0],\n",
       "         [0, 0, 0, ..., 0, 0, 0]],\n",
       "\n",
       "        [[0, 0, 0, ..., 0, 0, 0],\n",
       "         [0, 0, 0, ..., 0, 0, 0],\n",
       "         [0, 0, 0, ..., 0, 0, 0],\n",
       "         ...,\n",
       "         [0, 0, 0, ..., 0, 0, 0],\n",
       "         [0, 0, 0, ..., 0, 0, 0],\n",
       "         [0, 0, 0, ..., 0, 0, 0]],\n",
       "\n",
       "        ...,\n",
       "\n",
       "        [[0, 0, 0, ..., 0, 0, 0],\n",
       "         [0, 0, 0, ..., 0, 0, 0],\n",
       "         [0, 0, 0, ..., 0, 0, 0],\n",
       "         ...,\n",
       "         [0, 0, 0, ..., 0, 0, 0],\n",
       "         [0, 0, 0, ..., 0, 0, 0],\n",
       "         [0, 0, 0, ..., 0, 0, 0]],\n",
       "\n",
       "        [[0, 0, 0, ..., 0, 0, 0],\n",
       "         [0, 0, 0, ..., 0, 0, 0],\n",
       "         [0, 0, 0, ..., 0, 0, 0],\n",
       "         ...,\n",
       "         [0, 0, 0, ..., 0, 0, 0],\n",
       "         [0, 0, 0, ..., 0, 0, 0],\n",
       "         [0, 0, 0, ..., 0, 0, 0]],\n",
       "\n",
       "        [[0, 0, 0, ..., 0, 0, 0],\n",
       "         [0, 0, 0, ..., 0, 0, 0],\n",
       "         [0, 0, 0, ..., 0, 0, 0],\n",
       "         ...,\n",
       "         [0, 0, 0, ..., 0, 0, 0],\n",
       "         [0, 0, 0, ..., 0, 0, 0],\n",
       "         [0, 0, 0, ..., 0, 0, 0]]],\n",
       "\n",
       "\n",
       "       [[[1, 1, 1, ..., 1, 1, 1],\n",
       "         [1, 1, 1, ..., 1, 1, 1],\n",
       "         [1, 1, 1, ..., 1, 1, 1],\n",
       "         ...,\n",
       "         [1, 1, 1, ..., 1, 1, 1],\n",
       "         [1, 1, 1, ..., 1, 1, 1],\n",
       "         [1, 1, 1, ..., 1, 1, 1]],\n",
       "\n",
       "        [[1, 1, 1, ..., 1, 1, 1],\n",
       "         [1, 1, 1, ..., 1, 1, 1],\n",
       "         [1, 1, 1, ..., 1, 1, 1],\n",
       "         ...,\n",
       "         [1, 1, 1, ..., 1, 1, 1],\n",
       "         [1, 1, 1, ..., 1, 1, 1],\n",
       "         [1, 1, 1, ..., 1, 1, 1]],\n",
       "\n",
       "        [[1, 1, 1, ..., 1, 1, 1],\n",
       "         [1, 1, 1, ..., 1, 1, 1],\n",
       "         [1, 1, 1, ..., 1, 1, 1],\n",
       "         ...,\n",
       "         [1, 1, 1, ..., 1, 1, 1],\n",
       "         [1, 1, 1, ..., 1, 1, 1],\n",
       "         [1, 1, 1, ..., 1, 1, 1]],\n",
       "\n",
       "        ...,\n",
       "\n",
       "        [[1, 1, 1, ..., 1, 1, 1],\n",
       "         [1, 1, 1, ..., 1, 1, 1],\n",
       "         [1, 1, 1, ..., 1, 1, 1],\n",
       "         ...,\n",
       "         [1, 1, 1, ..., 1, 1, 1],\n",
       "         [1, 1, 1, ..., 1, 1, 1],\n",
       "         [1, 1, 1, ..., 1, 1, 1]],\n",
       "\n",
       "        [[1, 1, 1, ..., 1, 1, 1],\n",
       "         [1, 1, 1, ..., 1, 1, 1],\n",
       "         [1, 1, 1, ..., 1, 1, 1],\n",
       "         ...,\n",
       "         [1, 1, 1, ..., 1, 1, 1],\n",
       "         [1, 1, 1, ..., 1, 1, 1],\n",
       "         [1, 1, 1, ..., 1, 1, 1]],\n",
       "\n",
       "        [[1, 1, 1, ..., 1, 1, 1],\n",
       "         [1, 1, 1, ..., 1, 1, 1],\n",
       "         [1, 1, 1, ..., 1, 1, 1],\n",
       "         ...,\n",
       "         [1, 1, 1, ..., 1, 1, 1],\n",
       "         [1, 1, 1, ..., 1, 1, 1],\n",
       "         [1, 1, 1, ..., 1, 1, 1]]],\n",
       "\n",
       "\n",
       "       [[[2, 2, 2, ..., 2, 2, 2],\n",
       "         [2, 2, 2, ..., 2, 2, 2],\n",
       "         [2, 2, 2, ..., 2, 2, 2],\n",
       "         ...,\n",
       "         [2, 2, 2, ..., 2, 2, 2],\n",
       "         [2, 2, 2, ..., 2, 2, 2],\n",
       "         [2, 2, 2, ..., 2, 2, 2]],\n",
       "\n",
       "        [[2, 2, 2, ..., 2, 2, 2],\n",
       "         [2, 2, 2, ..., 2, 2, 2],\n",
       "         [2, 2, 2, ..., 2, 2, 2],\n",
       "         ...,\n",
       "         [2, 2, 2, ..., 2, 2, 2],\n",
       "         [2, 2, 2, ..., 2, 2, 2],\n",
       "         [2, 2, 2, ..., 2, 2, 2]],\n",
       "\n",
       "        [[2, 2, 2, ..., 2, 2, 2],\n",
       "         [2, 2, 2, ..., 2, 2, 2],\n",
       "         [2, 2, 2, ..., 2, 2, 2],\n",
       "         ...,\n",
       "         [2, 2, 2, ..., 2, 2, 2],\n",
       "         [2, 2, 2, ..., 2, 2, 2],\n",
       "         [2, 2, 2, ..., 2, 2, 2]],\n",
       "\n",
       "        ...,\n",
       "\n",
       "        [[2, 2, 2, ..., 2, 2, 2],\n",
       "         [2, 2, 2, ..., 2, 2, 2],\n",
       "         [2, 2, 2, ..., 2, 2, 2],\n",
       "         ...,\n",
       "         [2, 2, 2, ..., 2, 2, 2],\n",
       "         [2, 2, 2, ..., 2, 2, 2],\n",
       "         [2, 2, 2, ..., 2, 2, 2]],\n",
       "\n",
       "        [[2, 2, 2, ..., 2, 2, 2],\n",
       "         [2, 2, 2, ..., 2, 2, 2],\n",
       "         [2, 2, 2, ..., 2, 2, 2],\n",
       "         ...,\n",
       "         [2, 2, 2, ..., 2, 2, 2],\n",
       "         [2, 2, 2, ..., 2, 2, 2],\n",
       "         [2, 2, 2, ..., 2, 2, 2]],\n",
       "\n",
       "        [[2, 2, 2, ..., 2, 2, 2],\n",
       "         [2, 2, 2, ..., 2, 2, 2],\n",
       "         [2, 2, 2, ..., 2, 2, 2],\n",
       "         ...,\n",
       "         [2, 2, 2, ..., 2, 2, 2],\n",
       "         [2, 2, 2, ..., 2, 2, 2],\n",
       "         [2, 2, 2, ..., 2, 2, 2]]],\n",
       "\n",
       "\n",
       "       ...,\n",
       "\n",
       "\n",
       "       [[[7, 7, 7, ..., 7, 7, 7],\n",
       "         [7, 7, 7, ..., 7, 7, 7],\n",
       "         [7, 7, 7, ..., 7, 7, 7],\n",
       "         ...,\n",
       "         [7, 7, 7, ..., 7, 7, 7],\n",
       "         [7, 7, 7, ..., 7, 7, 7],\n",
       "         [7, 7, 7, ..., 7, 7, 7]],\n",
       "\n",
       "        [[7, 7, 7, ..., 7, 7, 7],\n",
       "         [7, 7, 7, ..., 7, 7, 7],\n",
       "         [7, 7, 7, ..., 7, 7, 7],\n",
       "         ...,\n",
       "         [7, 7, 7, ..., 7, 7, 7],\n",
       "         [7, 7, 7, ..., 7, 7, 7],\n",
       "         [7, 7, 7, ..., 7, 7, 7]],\n",
       "\n",
       "        [[7, 7, 7, ..., 7, 7, 7],\n",
       "         [7, 7, 7, ..., 7, 7, 7],\n",
       "         [7, 7, 7, ..., 7, 7, 7],\n",
       "         ...,\n",
       "         [7, 7, 7, ..., 7, 7, 7],\n",
       "         [7, 7, 7, ..., 7, 7, 7],\n",
       "         [7, 7, 7, ..., 7, 7, 7]],\n",
       "\n",
       "        ...,\n",
       "\n",
       "        [[7, 7, 7, ..., 7, 7, 7],\n",
       "         [7, 7, 7, ..., 7, 7, 7],\n",
       "         [7, 7, 7, ..., 7, 7, 7],\n",
       "         ...,\n",
       "         [7, 7, 7, ..., 7, 7, 7],\n",
       "         [7, 7, 7, ..., 7, 7, 7],\n",
       "         [7, 7, 7, ..., 7, 7, 7]],\n",
       "\n",
       "        [[7, 7, 7, ..., 7, 7, 7],\n",
       "         [7, 7, 7, ..., 7, 7, 7],\n",
       "         [7, 7, 7, ..., 7, 7, 7],\n",
       "         ...,\n",
       "         [7, 7, 7, ..., 7, 7, 7],\n",
       "         [7, 7, 7, ..., 7, 7, 7],\n",
       "         [7, 7, 7, ..., 7, 7, 7]],\n",
       "\n",
       "        [[7, 7, 7, ..., 7, 7, 7],\n",
       "         [7, 7, 7, ..., 7, 7, 7],\n",
       "         [7, 7, 7, ..., 7, 7, 7],\n",
       "         ...,\n",
       "         [7, 7, 7, ..., 7, 7, 7],\n",
       "         [7, 7, 7, ..., 7, 7, 7],\n",
       "         [7, 7, 7, ..., 7, 7, 7]]],\n",
       "\n",
       "\n",
       "       [[[8, 8, 8, ..., 8, 8, 8],\n",
       "         [8, 8, 8, ..., 8, 8, 8],\n",
       "         [8, 8, 8, ..., 8, 8, 8],\n",
       "         ...,\n",
       "         [8, 8, 8, ..., 8, 8, 8],\n",
       "         [8, 8, 8, ..., 8, 8, 8],\n",
       "         [8, 8, 8, ..., 8, 8, 8]],\n",
       "\n",
       "        [[8, 8, 8, ..., 8, 8, 8],\n",
       "         [8, 8, 8, ..., 8, 8, 8],\n",
       "         [8, 8, 8, ..., 8, 8, 8],\n",
       "         ...,\n",
       "         [8, 8, 8, ..., 8, 8, 8],\n",
       "         [8, 8, 8, ..., 8, 8, 8],\n",
       "         [8, 8, 8, ..., 8, 8, 8]],\n",
       "\n",
       "        [[8, 8, 8, ..., 8, 8, 8],\n",
       "         [8, 8, 8, ..., 8, 8, 8],\n",
       "         [8, 8, 8, ..., 8, 8, 8],\n",
       "         ...,\n",
       "         [8, 8, 8, ..., 8, 8, 8],\n",
       "         [8, 8, 8, ..., 8, 8, 8],\n",
       "         [8, 8, 8, ..., 8, 8, 8]],\n",
       "\n",
       "        ...,\n",
       "\n",
       "        [[8, 8, 8, ..., 8, 8, 8],\n",
       "         [8, 8, 8, ..., 8, 8, 8],\n",
       "         [8, 8, 8, ..., 8, 8, 8],\n",
       "         ...,\n",
       "         [8, 8, 8, ..., 8, 8, 8],\n",
       "         [8, 8, 8, ..., 8, 8, 8],\n",
       "         [8, 8, 8, ..., 8, 8, 8]],\n",
       "\n",
       "        [[8, 8, 8, ..., 8, 8, 8],\n",
       "         [8, 8, 8, ..., 8, 8, 8],\n",
       "         [8, 8, 8, ..., 8, 8, 8],\n",
       "         ...,\n",
       "         [8, 8, 8, ..., 8, 8, 8],\n",
       "         [8, 8, 8, ..., 8, 8, 8],\n",
       "         [8, 8, 8, ..., 8, 8, 8]],\n",
       "\n",
       "        [[8, 8, 8, ..., 8, 8, 8],\n",
       "         [8, 8, 8, ..., 8, 8, 8],\n",
       "         [8, 8, 8, ..., 8, 8, 8],\n",
       "         ...,\n",
       "         [8, 8, 8, ..., 8, 8, 8],\n",
       "         [8, 8, 8, ..., 8, 8, 8],\n",
       "         [8, 8, 8, ..., 8, 8, 8]]],\n",
       "\n",
       "\n",
       "       [[[9, 9, 9, ..., 9, 9, 9],\n",
       "         [9, 9, 9, ..., 9, 9, 9],\n",
       "         [9, 9, 9, ..., 9, 9, 9],\n",
       "         ...,\n",
       "         [9, 9, 9, ..., 9, 9, 9],\n",
       "         [9, 9, 9, ..., 9, 9, 9],\n",
       "         [9, 9, 9, ..., 9, 9, 9]],\n",
       "\n",
       "        [[9, 9, 9, ..., 9, 9, 9],\n",
       "         [9, 9, 9, ..., 9, 9, 9],\n",
       "         [9, 9, 9, ..., 9, 9, 9],\n",
       "         ...,\n",
       "         [9, 9, 9, ..., 9, 9, 9],\n",
       "         [9, 9, 9, ..., 9, 9, 9],\n",
       "         [9, 9, 9, ..., 9, 9, 9]],\n",
       "\n",
       "        [[9, 9, 9, ..., 9, 9, 9],\n",
       "         [9, 9, 9, ..., 9, 9, 9],\n",
       "         [9, 9, 9, ..., 9, 9, 9],\n",
       "         ...,\n",
       "         [9, 9, 9, ..., 9, 9, 9],\n",
       "         [9, 9, 9, ..., 9, 9, 9],\n",
       "         [9, 9, 9, ..., 9, 9, 9]],\n",
       "\n",
       "        ...,\n",
       "\n",
       "        [[9, 9, 9, ..., 9, 9, 9],\n",
       "         [9, 9, 9, ..., 9, 9, 9],\n",
       "         [9, 9, 9, ..., 9, 9, 9],\n",
       "         ...,\n",
       "         [9, 9, 9, ..., 9, 9, 9],\n",
       "         [9, 9, 9, ..., 9, 9, 9],\n",
       "         [9, 9, 9, ..., 9, 9, 9]],\n",
       "\n",
       "        [[9, 9, 9, ..., 9, 9, 9],\n",
       "         [9, 9, 9, ..., 9, 9, 9],\n",
       "         [9, 9, 9, ..., 9, 9, 9],\n",
       "         ...,\n",
       "         [9, 9, 9, ..., 9, 9, 9],\n",
       "         [9, 9, 9, ..., 9, 9, 9],\n",
       "         [9, 9, 9, ..., 9, 9, 9]],\n",
       "\n",
       "        [[9, 9, 9, ..., 9, 9, 9],\n",
       "         [9, 9, 9, ..., 9, 9, 9],\n",
       "         [9, 9, 9, ..., 9, 9, 9],\n",
       "         ...,\n",
       "         [9, 9, 9, ..., 9, 9, 9],\n",
       "         [9, 9, 9, ..., 9, 9, 9],\n",
       "         [9, 9, 9, ..., 9, 9, 9]]]])"
      ]
     },
     "execution_count": 107,
     "metadata": {},
     "output_type": "execute_result"
    }
   ],
   "source": [
    "from scipy.stats import multinomial\n",
    "def prob_bad_nucleotide(k, p):\n",
    "    eq_prob = 0\n",
    "    bad_prob = 0\n",
    "    sequencer = multinomial(k, [1-p, (p)/3, (p)/3, (p)/3])\n",
    "    k1_bound = math.floor(k/2)\n",
    "    if k%2 == 0:\n",
    "        eq_prob+= sequencer.pmf([k1_bound, k1_bound, 0, 0])*num_eq(k, k1_bound)\n",
    "        k1_bound = k1_bound - 1 \n",
    "    for k1 in range(0, k1_bound+1):\n",
    "        eq_prob += sequencer.pmf([k1, k1, k - 2*k1, 0])*num_eq(k, k1)\n",
    "        bad_prob += sequencer.pmf([k1, k1 + 1, k - 2*k1 - 1, 0])*num_bad(k, k1)\n",
    "    return eq_prob*0.75, bad_prob"
   ]
  },
  {
   "cell_type": "code",
   "execution_count": null,
   "metadata": {},
   "outputs": [],
   "source": [
    "def num_eq(k, k1):\n",
    "    return 3*(k - 2*k1 +1)\n",
    "def num_bad(k, k1):\n",
    "    return 3*((k-2*k1+1)*(k-2*k1))/2"
   ]
  }
 ],
 "metadata": {
  "kernelspec": {
   "display_name": "Python 3",
   "language": "python",
   "name": "python3"
  },
  "language_info": {
   "codemirror_mode": {
    "name": "ipython",
    "version": 3
   },
   "file_extension": ".py",
   "mimetype": "text/x-python",
   "name": "python",
   "nbconvert_exporter": "python",
   "pygments_lexer": "ipython3",
   "version": "3.7.1"
  }
 },
 "nbformat": 4,
 "nbformat_minor": 2
}
